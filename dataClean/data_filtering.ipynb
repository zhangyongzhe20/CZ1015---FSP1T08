{
 "nbformat": 4,
 "nbformat_minor": 2,
 "metadata": {
  "language_info": {
   "name": "python",
   "codemirror_mode": {
    "name": "ipython",
    "version": 3
   },
   "version": "3.7.4-final"
  },
  "orig_nbformat": 2,
  "file_extension": ".py",
  "mimetype": "text/x-python",
  "name": "python",
  "npconvert_exporter": "python",
  "pygments_lexer": "ipython3",
  "version": 3,
  "kernelspec": {
   "name": "python3",
   "display_name": "Python 3"
  }
 },
 "cells": [
  {
   "cell_type": "code",
   "execution_count": 2,
   "metadata": {},
   "outputs": [],
   "source": [
    "# Analysis lib\n",
    "import numpy as np \n",
    "import pandas as pd "
   ]
  },
  {
   "cell_type": "code",
   "execution_count": 3,
   "metadata": {},
   "outputs": [
    {
     "output_type": "execute_result",
     "data": {
      "text/plain": "(3818, 92)"
     },
     "metadata": {},
     "execution_count": 3
    }
   ],
   "source": [
    "# Reading data\n",
    "listings_dataFilter = pd.read_csv('..\\dataset_origin\\listings.csv')\n",
    "listings_dataFilter.shape"
   ]
  },
  {
   "cell_type": "markdown",
   "metadata": {},
   "source": [
    "# There are two types of data, one is Categorical and the other is Numerical. Numerical data includes int64 and float64."
   ],
   "execution_count": null,
   "outputs": []
  },
  {
   "cell_type": "code",
   "execution_count": 4,
   "metadata": {},
   "outputs": [
    {
     "output_type": "stream",
     "name": "stdout",
     "text": "<class 'pandas.core.frame.DataFrame'>\nRangeIndex: 3818 entries, 0 to 3817\nData columns (total 92 columns):\nid                                  3818 non-null int64\nlisting_url                         3818 non-null object\nscrape_id                           3818 non-null float64\nlast_scraped                        3818 non-null object\nname                                3818 non-null object\nsummary                             3641 non-null object\nspace                               3249 non-null object\ndescription                         3818 non-null object\nexperiences_offered                 3818 non-null object\nneighborhood_overview               2786 non-null object\nnotes                               2212 non-null object\ntransit                             2884 non-null object\nthumbnail_url                       3498 non-null object\nmedium_url                          3498 non-null object\npicture_url                         3818 non-null object\nxl_picture_url                      3498 non-null object\nhost_id                             3818 non-null int64\nhost_url                            3818 non-null object\nhost_name                           3816 non-null object\nhost_since                          3816 non-null object\nhost_location                       3810 non-null object\nhost_about                          2959 non-null object\nhost_response_time                  3295 non-null object\nhost_response_rate                  3295 non-null object\nhost_acceptance_rate                3045 non-null object\nhost_is_superhost                   3816 non-null object\nhost_thumbnail_url                  3816 non-null object\nhost_picture_url                    3816 non-null object\nhost_neighbourhood                  3518 non-null object\nhost_listings_count                 3816 non-null float64\nhost_total_listings_count           3816 non-null float64\nhost_verifications                  3818 non-null object\nhost_has_profile_pic                3816 non-null object\nhost_identity_verified              3816 non-null object\nstreet                              3818 non-null object\nneighbourhood                       3402 non-null object\nneighbourhood_cleansed              3818 non-null object\nneighbourhood_group_cleansed        3818 non-null object\ncity                                3818 non-null object\nstate                               3818 non-null object\nzipcode                             3811 non-null object\nmarket                              3818 non-null object\nsmart_location                      3818 non-null object\ncountry_code                        3818 non-null object\ncountry                             3818 non-null object\nlatitude                            3818 non-null float64\nlongitude                           3818 non-null float64\nis_location_exact                   3818 non-null object\nproperty_type                       3817 non-null object\nroom_type                           3818 non-null object\naccommodates                        3818 non-null int64\nbathrooms                           3802 non-null float64\nbedrooms                            3812 non-null float64\nbeds                                3817 non-null float64\nbed_type                            3818 non-null object\namenities                           3818 non-null object\nsquare_feet                         97 non-null float64\nprice                               3818 non-null object\nweekly_price                        2009 non-null object\nmonthly_price                       1517 non-null object\nsecurity_deposit                    1866 non-null object\ncleaning_fee                        2788 non-null object\nguests_included                     3818 non-null int64\nextra_people                        3818 non-null object\nminimum_nights                      3818 non-null int64\nmaximum_nights                      3818 non-null int64\ncalendar_updated                    3818 non-null object\nhas_availability                    3818 non-null object\navailability_30                     3818 non-null int64\navailability_60                     3818 non-null int64\navailability_90                     3818 non-null int64\navailability_365                    3818 non-null int64\ncalendar_last_scraped               3818 non-null object\nnumber_of_reviews                   3818 non-null int64\nfirst_review                        3191 non-null object\nlast_review                         3191 non-null object\nreview_scores_rating                3171 non-null float64\nreview_scores_accuracy              3160 non-null float64\nreview_scores_cleanliness           3165 non-null float64\nreview_scores_checkin               3160 non-null float64\nreview_scores_communication         3167 non-null float64\nreview_scores_location              3163 non-null float64\nreview_scores_value                 3162 non-null float64\nrequires_license                    3818 non-null object\nlicense                             0 non-null float64\njurisdiction_names                  3818 non-null object\ninstant_bookable                    3818 non-null object\ncancellation_policy                 3818 non-null object\nrequire_guest_profile_picture       3818 non-null object\nrequire_guest_phone_verification    3818 non-null object\ncalculated_host_listings_count      3818 non-null int64\nreviews_per_month                   3191 non-null float64\ndtypes: float64(18), int64(12), object(62)\nmemory usage: 2.7+ MB\n"
    }
   ],
   "source": [
    "#Check for columns infomation\n",
    "listings_dataFilter.info()"
   ]
  },
  {
   "cell_type": "markdown",
   "metadata": {},
   "source": [
    "# Drop \"id\" \"host_id\" \"srape_id\", these numerical data contains very big numerical value."
   ],
   "execution_count": null,
   "outputs": []
  },
  {
   "cell_type": "code",
   "execution_count": 5,
   "metadata": {},
   "outputs": [],
   "source": [
    "listings_dataFilter.drop(columns=['id', 'host_id', 'scrape_id'], inplace=True)"
   ]
  },
  {
   "cell_type": "markdown",
   "metadata": {},
   "source": [
    "# Remove Columns contain only one value\n",
    "## These columns won’t be useful for the model since they don’t add any information. In addition, removing these columns will reduce the number of columns we’ll need to explore further in the next stage."
   ],
   "execution_count": null,
   "outputs": []
  },
  {
   "cell_type": "code",
   "execution_count": 6,
   "metadata": {},
   "outputs": [
    {
     "output_type": "execute_result",
     "data": {
      "text/plain": "(3818, 80)"
     },
     "metadata": {},
     "execution_count": 6
    }
   ],
   "source": [
    "listings_dataFilter = listings_dataFilter.loc[:,listings_dataFilter.apply(pd.Series.nunique) != 1]\n",
    "listings_dataFilter.shape"
   ]
  },
  {
   "cell_type": "markdown",
   "metadata": {},
   "source": [
    "# Check the missing values in each column.\n"
   ],
   "execution_count": null,
   "outputs": []
  },
  {
   "cell_type": "code",
   "execution_count": 7,
   "metadata": {},
   "outputs": [],
   "source": [
    "# Function to show the columns with missing values in descending order.\n",
    "def show_missing_values(df):\n",
    "    missing_vals = pd.DataFrame()\n",
    "    filtered_predicator = []\n",
    "    missing_vals['amount'] = df.isnull().sum().sort_values(ascending = False)\n",
    "    missing_vals['ratio'] = round(missing_vals['amount']/len(df),2)\n",
    "    return missing_vals[missing_vals['amount']>0].dropna()"
   ]
  },
  {
   "cell_type": "code",
   "execution_count": 8,
   "metadata": {},
   "outputs": [
    {
     "output_type": "execute_result",
     "data": {
      "text/plain": "                             amount  ratio\nlicense                        3818   1.00\nsquare_feet                    3721   0.97\nmonthly_price                  2301   0.60\nsecurity_deposit               1952   0.51\nweekly_price                   1809   0.47\nnotes                          1606   0.42\nneighborhood_overview          1032   0.27\ncleaning_fee                   1030   0.27\ntransit                         934   0.24\nhost_about                      859   0.22\nhost_acceptance_rate            773   0.20\nreview_scores_accuracy          658   0.17\nreview_scores_checkin           658   0.17\nreview_scores_value             656   0.17\nreview_scores_location          655   0.17\nreview_scores_cleanliness       653   0.17\nreview_scores_communication     651   0.17\nreview_scores_rating            647   0.17\nlast_review                     627   0.16\nfirst_review                    627   0.16\nreviews_per_month               627   0.16\nspace                           569   0.15\nhost_response_time              523   0.14\nhost_response_rate              523   0.14\nneighbourhood                   416   0.11\nxl_picture_url                  320   0.08\nmedium_url                      320   0.08\nthumbnail_url                   320   0.08\nhost_neighbourhood              300   0.08\nsummary                         177   0.05\nbathrooms                        16   0.00\nhost_location                     8   0.00\nzipcode                           7   0.00\nbedrooms                          6   0.00\nhost_is_superhost                 2   0.00\nhost_has_profile_pic              2   0.00\nhost_total_listings_count         2   0.00\nhost_listings_count               2   0.00\nhost_picture_url                  2   0.00\nhost_thumbnail_url                2   0.00\nhost_identity_verified            2   0.00\nhost_name                         2   0.00\nhost_since                        2   0.00\nproperty_type                     1   0.00\nbeds                              1   0.00",
      "text/html": "<div>\n<style scoped>\n    .dataframe tbody tr th:only-of-type {\n        vertical-align: middle;\n    }\n\n    .dataframe tbody tr th {\n        vertical-align: top;\n    }\n\n    .dataframe thead th {\n        text-align: right;\n    }\n</style>\n<table border=\"1\" class=\"dataframe\">\n  <thead>\n    <tr style=\"text-align: right;\">\n      <th></th>\n      <th>amount</th>\n      <th>ratio</th>\n    </tr>\n  </thead>\n  <tbody>\n    <tr>\n      <td>license</td>\n      <td>3818</td>\n      <td>1.00</td>\n    </tr>\n    <tr>\n      <td>square_feet</td>\n      <td>3721</td>\n      <td>0.97</td>\n    </tr>\n    <tr>\n      <td>monthly_price</td>\n      <td>2301</td>\n      <td>0.60</td>\n    </tr>\n    <tr>\n      <td>security_deposit</td>\n      <td>1952</td>\n      <td>0.51</td>\n    </tr>\n    <tr>\n      <td>weekly_price</td>\n      <td>1809</td>\n      <td>0.47</td>\n    </tr>\n    <tr>\n      <td>notes</td>\n      <td>1606</td>\n      <td>0.42</td>\n    </tr>\n    <tr>\n      <td>neighborhood_overview</td>\n      <td>1032</td>\n      <td>0.27</td>\n    </tr>\n    <tr>\n      <td>cleaning_fee</td>\n      <td>1030</td>\n      <td>0.27</td>\n    </tr>\n    <tr>\n      <td>transit</td>\n      <td>934</td>\n      <td>0.24</td>\n    </tr>\n    <tr>\n      <td>host_about</td>\n      <td>859</td>\n      <td>0.22</td>\n    </tr>\n    <tr>\n      <td>host_acceptance_rate</td>\n      <td>773</td>\n      <td>0.20</td>\n    </tr>\n    <tr>\n      <td>review_scores_accuracy</td>\n      <td>658</td>\n      <td>0.17</td>\n    </tr>\n    <tr>\n      <td>review_scores_checkin</td>\n      <td>658</td>\n      <td>0.17</td>\n    </tr>\n    <tr>\n      <td>review_scores_value</td>\n      <td>656</td>\n      <td>0.17</td>\n    </tr>\n    <tr>\n      <td>review_scores_location</td>\n      <td>655</td>\n      <td>0.17</td>\n    </tr>\n    <tr>\n      <td>review_scores_cleanliness</td>\n      <td>653</td>\n      <td>0.17</td>\n    </tr>\n    <tr>\n      <td>review_scores_communication</td>\n      <td>651</td>\n      <td>0.17</td>\n    </tr>\n    <tr>\n      <td>review_scores_rating</td>\n      <td>647</td>\n      <td>0.17</td>\n    </tr>\n    <tr>\n      <td>last_review</td>\n      <td>627</td>\n      <td>0.16</td>\n    </tr>\n    <tr>\n      <td>first_review</td>\n      <td>627</td>\n      <td>0.16</td>\n    </tr>\n    <tr>\n      <td>reviews_per_month</td>\n      <td>627</td>\n      <td>0.16</td>\n    </tr>\n    <tr>\n      <td>space</td>\n      <td>569</td>\n      <td>0.15</td>\n    </tr>\n    <tr>\n      <td>host_response_time</td>\n      <td>523</td>\n      <td>0.14</td>\n    </tr>\n    <tr>\n      <td>host_response_rate</td>\n      <td>523</td>\n      <td>0.14</td>\n    </tr>\n    <tr>\n      <td>neighbourhood</td>\n      <td>416</td>\n      <td>0.11</td>\n    </tr>\n    <tr>\n      <td>xl_picture_url</td>\n      <td>320</td>\n      <td>0.08</td>\n    </tr>\n    <tr>\n      <td>medium_url</td>\n      <td>320</td>\n      <td>0.08</td>\n    </tr>\n    <tr>\n      <td>thumbnail_url</td>\n      <td>320</td>\n      <td>0.08</td>\n    </tr>\n    <tr>\n      <td>host_neighbourhood</td>\n      <td>300</td>\n      <td>0.08</td>\n    </tr>\n    <tr>\n      <td>summary</td>\n      <td>177</td>\n      <td>0.05</td>\n    </tr>\n    <tr>\n      <td>bathrooms</td>\n      <td>16</td>\n      <td>0.00</td>\n    </tr>\n    <tr>\n      <td>host_location</td>\n      <td>8</td>\n      <td>0.00</td>\n    </tr>\n    <tr>\n      <td>zipcode</td>\n      <td>7</td>\n      <td>0.00</td>\n    </tr>\n    <tr>\n      <td>bedrooms</td>\n      <td>6</td>\n      <td>0.00</td>\n    </tr>\n    <tr>\n      <td>host_is_superhost</td>\n      <td>2</td>\n      <td>0.00</td>\n    </tr>\n    <tr>\n      <td>host_has_profile_pic</td>\n      <td>2</td>\n      <td>0.00</td>\n    </tr>\n    <tr>\n      <td>host_total_listings_count</td>\n      <td>2</td>\n      <td>0.00</td>\n    </tr>\n    <tr>\n      <td>host_listings_count</td>\n      <td>2</td>\n      <td>0.00</td>\n    </tr>\n    <tr>\n      <td>host_picture_url</td>\n      <td>2</td>\n      <td>0.00</td>\n    </tr>\n    <tr>\n      <td>host_thumbnail_url</td>\n      <td>2</td>\n      <td>0.00</td>\n    </tr>\n    <tr>\n      <td>host_identity_verified</td>\n      <td>2</td>\n      <td>0.00</td>\n    </tr>\n    <tr>\n      <td>host_name</td>\n      <td>2</td>\n      <td>0.00</td>\n    </tr>\n    <tr>\n      <td>host_since</td>\n      <td>2</td>\n      <td>0.00</td>\n    </tr>\n    <tr>\n      <td>property_type</td>\n      <td>1</td>\n      <td>0.00</td>\n    </tr>\n    <tr>\n      <td>beds</td>\n      <td>1</td>\n      <td>0.00</td>\n    </tr>\n  </tbody>\n</table>\n</div>"
     },
     "metadata": {},
     "execution_count": 8
    }
   ],
   "source": [
    "show_missing_values(listings_dataFilter)"
   ]
  },
  {
   "cell_type": "markdown",
   "metadata": {},
   "source": [
    "# Because our dataset only has 3818 rows, which is a quite small dataset. To keep data integrated, we only filter off those columns with more than 30% missing values."
   ],
   "execution_count": null,
   "outputs": []
  },
  {
   "cell_type": "code",
   "execution_count": 9,
   "metadata": {},
   "outputs": [
    {
     "output_type": "execute_result",
     "data": {
      "text/plain": "['license',\n 'square_feet',\n 'monthly_price',\n 'security_deposit',\n 'weekly_price',\n 'notes']"
     },
     "metadata": {},
     "execution_count": 9
    }
   ],
   "source": [
    "# add columns with the ratio is over 0.3 to a list for later use.\n",
    "series = show_missing_values(listings_dataFilter).iloc[:,1]\n",
    "many_missings = [x for x, y in series.items() if y > 0.30]\n",
    "many_missings"
   ]
  },
  {
   "cell_type": "code",
   "execution_count": 10,
   "metadata": {},
   "outputs": [],
   "source": [
    "listings_dataFilter = listings_dataFilter.drop(columns = many_missings)"
   ]
  },
  {
   "cell_type": "markdown",
   "metadata": {},
   "source": [
    "# Collect all categorical data into a list called categorical_data.\n",
    "# Collect all numerical data into a list called numerical_data."
   ],
   "execution_count": null,
   "outputs": []
  },
  {
   "cell_type": "code",
   "execution_count": 11,
   "metadata": {},
   "outputs": [],
   "source": [
    "numerical_data = []\n",
    "categorical_data = []\n",
    "for column in listings_dataFilter.columns:\n",
    "    if listings_dataFilter[column].dtype == \"object\":\n",
    "        categorical_data.append(column)\n",
    "    else:\n",
    "        numerical_data.append(column)"
   ]
  },
  {
   "cell_type": "code",
   "execution_count": 12,
   "metadata": {},
   "outputs": [
    {
     "output_type": "stream",
     "name": "stdout",
     "text": "categorical data has:\n"
    },
    {
     "output_type": "execute_result",
     "data": {
      "text/plain": "['listing_url',\n 'name',\n 'summary',\n 'space',\n 'description',\n 'neighborhood_overview',\n 'transit',\n 'thumbnail_url',\n 'medium_url',\n 'picture_url',\n 'xl_picture_url',\n 'host_url',\n 'host_name',\n 'host_since',\n 'host_location',\n 'host_about',\n 'host_response_time',\n 'host_response_rate',\n 'host_acceptance_rate',\n 'host_is_superhost',\n 'host_thumbnail_url',\n 'host_picture_url',\n 'host_neighbourhood',\n 'host_verifications',\n 'host_has_profile_pic',\n 'host_identity_verified',\n 'street',\n 'neighbourhood',\n 'neighbourhood_cleansed',\n 'neighbourhood_group_cleansed',\n 'city',\n 'state',\n 'zipcode',\n 'smart_location',\n 'is_location_exact',\n 'property_type',\n 'room_type',\n 'bed_type',\n 'amenities',\n 'price',\n 'cleaning_fee',\n 'extra_people',\n 'calendar_updated',\n 'first_review',\n 'last_review',\n 'instant_bookable',\n 'cancellation_policy',\n 'require_guest_profile_picture',\n 'require_guest_phone_verification']"
     },
     "metadata": {},
     "execution_count": 12
    }
   ],
   "source": [
    "print(\"categorical data has:\")\n",
    "categorical_data"
   ]
  },
  {
   "cell_type": "code",
   "execution_count": 13,
   "metadata": {},
   "outputs": [],
   "source": [
    "#Check the distribution of categorical data\n",
    "#listings_dataFilter.describe(include=[\"O\"])"
   ]
  },
  {
   "cell_type": "markdown",
   "metadata": {},
   "source": [
    "# Convert the columns contain \"$\" from categorical data into numerical data.\n",
    "# Such as price, cleaning_fee, extra_people"
   ],
   "execution_count": null,
   "outputs": []
  },
  {
   "cell_type": "code",
   "execution_count": 14,
   "metadata": {},
   "outputs": [],
   "source": [
    "listings_dataFilter['price'] = listings_dataFilter['price'].replace('[\\$,]', '', regex=True).astype(float)\n",
    "listings_dataFilter['cleaning_fee'] = listings_dataFilter['cleaning_fee'].replace('[\\$,]', '', regex=True).astype(float)\n",
    "listings_dataFilter['extra_people'] = listings_dataFilter['extra_people'].replace('[\\$,]', '', regex=True).astype(float)"
   ]
  },
  {
   "cell_type": "code",
   "execution_count": 15,
   "metadata": {},
   "outputs": [
    {
     "output_type": "stream",
     "name": "stdout",
     "text": "Numerical data has:\n"
    },
    {
     "output_type": "execute_result",
     "data": {
      "text/plain": "['host_listings_count',\n 'host_total_listings_count',\n 'latitude',\n 'longitude',\n 'accommodates',\n 'bathrooms',\n 'bedrooms',\n 'beds',\n 'guests_included',\n 'minimum_nights',\n 'maximum_nights',\n 'availability_30',\n 'availability_60',\n 'availability_90',\n 'availability_365',\n 'number_of_reviews',\n 'review_scores_rating',\n 'review_scores_accuracy',\n 'review_scores_cleanliness',\n 'review_scores_checkin',\n 'review_scores_communication',\n 'review_scores_location',\n 'review_scores_value',\n 'calculated_host_listings_count',\n 'reviews_per_month']"
     },
     "metadata": {},
     "execution_count": 15
    }
   ],
   "source": [
    "print(\"Numerical data has:\")\n",
    "numerical_data"
   ]
  },
  {
   "cell_type": "code",
   "execution_count": 16,
   "metadata": {},
   "outputs": [
    {
     "output_type": "execute_result",
     "data": {
      "text/plain": "       host_listings_count  host_total_listings_count     latitude  \\\ncount          3816.000000                3816.000000  3818.000000   \nmean              7.157757                   7.157757    47.628961   \nstd              28.628149                  28.628149     0.043052   \nmin               1.000000                   1.000000    47.505088   \n25%               1.000000                   1.000000    47.609418   \n50%               1.000000                   1.000000    47.623601   \n75%               3.000000                   3.000000    47.662694   \nmax             502.000000                 502.000000    47.733358   \n\n         longitude  accommodates    bathrooms     bedrooms         beds  \\\ncount  3818.000000   3818.000000  3802.000000  3812.000000  3817.000000   \nmean   -122.333103      3.349398     1.259469     1.307712     1.735394   \nstd       0.031745      1.977599     0.590369     0.883395     1.139480   \nmin    -122.417219      1.000000     0.000000     0.000000     1.000000   \n25%    -122.354321      2.000000     1.000000     1.000000     1.000000   \n50%    -122.328874      3.000000     1.000000     1.000000     1.000000   \n75%    -122.310800      4.000000     1.000000     2.000000     2.000000   \nmax    -122.240607     16.000000     8.000000     7.000000    15.000000   \n\n             price  cleaning_fee  ...  number_of_reviews  \\\ncount  3818.000000   2788.000000  ...        3818.000000   \nmean    127.976166     61.710904  ...          22.223415   \nstd      90.250022     48.830341  ...          37.730892   \nmin      20.000000      5.000000  ...           0.000000   \n25%      75.000000     25.000000  ...           2.000000   \n50%     100.000000     50.000000  ...           9.000000   \n75%     150.000000     83.000000  ...          26.000000   \nmax    1000.000000    300.000000  ...         474.000000   \n\n       review_scores_rating  review_scores_accuracy  \\\ncount           3171.000000             3160.000000   \nmean              94.539262                9.636392   \nstd                6.606083                0.698031   \nmin               20.000000                2.000000   \n25%               93.000000                9.000000   \n50%               96.000000               10.000000   \n75%               99.000000               10.000000   \nmax              100.000000               10.000000   \n\n       review_scores_cleanliness  review_scores_checkin  \\\ncount                3165.000000            3160.000000   \nmean                    9.556398               9.786709   \nstd                     0.797274               0.595499   \nmin                     3.000000               2.000000   \n25%                     9.000000              10.000000   \n50%                    10.000000              10.000000   \n75%                    10.000000              10.000000   \nmax                    10.000000              10.000000   \n\n       review_scores_communication  review_scores_location  \\\ncount                  3167.000000             3163.000000   \nmean                      9.809599                9.608916   \nstd                       0.568211                0.629053   \nmin                       2.000000                4.000000   \n25%                      10.000000                9.000000   \n50%                      10.000000               10.000000   \n75%                      10.000000               10.000000   \nmax                      10.000000               10.000000   \n\n       review_scores_value  calculated_host_listings_count  reviews_per_month  \ncount          3162.000000                     3818.000000        3191.000000  \nmean              9.452245                        2.946307           2.078919  \nstd               0.750259                        5.893029           1.822348  \nmin               2.000000                        1.000000           0.020000  \n25%               9.000000                        1.000000           0.695000  \n50%              10.000000                        1.000000           1.540000  \n75%              10.000000                        2.000000           3.000000  \nmax              10.000000                       37.000000          12.150000  \n\n[8 rows x 28 columns]",
      "text/html": "<div>\n<style scoped>\n    .dataframe tbody tr th:only-of-type {\n        vertical-align: middle;\n    }\n\n    .dataframe tbody tr th {\n        vertical-align: top;\n    }\n\n    .dataframe thead th {\n        text-align: right;\n    }\n</style>\n<table border=\"1\" class=\"dataframe\">\n  <thead>\n    <tr style=\"text-align: right;\">\n      <th></th>\n      <th>host_listings_count</th>\n      <th>host_total_listings_count</th>\n      <th>latitude</th>\n      <th>longitude</th>\n      <th>accommodates</th>\n      <th>bathrooms</th>\n      <th>bedrooms</th>\n      <th>beds</th>\n      <th>price</th>\n      <th>cleaning_fee</th>\n      <th>...</th>\n      <th>number_of_reviews</th>\n      <th>review_scores_rating</th>\n      <th>review_scores_accuracy</th>\n      <th>review_scores_cleanliness</th>\n      <th>review_scores_checkin</th>\n      <th>review_scores_communication</th>\n      <th>review_scores_location</th>\n      <th>review_scores_value</th>\n      <th>calculated_host_listings_count</th>\n      <th>reviews_per_month</th>\n    </tr>\n  </thead>\n  <tbody>\n    <tr>\n      <td>count</td>\n      <td>3816.000000</td>\n      <td>3816.000000</td>\n      <td>3818.000000</td>\n      <td>3818.000000</td>\n      <td>3818.000000</td>\n      <td>3802.000000</td>\n      <td>3812.000000</td>\n      <td>3817.000000</td>\n      <td>3818.000000</td>\n      <td>2788.000000</td>\n      <td>...</td>\n      <td>3818.000000</td>\n      <td>3171.000000</td>\n      <td>3160.000000</td>\n      <td>3165.000000</td>\n      <td>3160.000000</td>\n      <td>3167.000000</td>\n      <td>3163.000000</td>\n      <td>3162.000000</td>\n      <td>3818.000000</td>\n      <td>3191.000000</td>\n    </tr>\n    <tr>\n      <td>mean</td>\n      <td>7.157757</td>\n      <td>7.157757</td>\n      <td>47.628961</td>\n      <td>-122.333103</td>\n      <td>3.349398</td>\n      <td>1.259469</td>\n      <td>1.307712</td>\n      <td>1.735394</td>\n      <td>127.976166</td>\n      <td>61.710904</td>\n      <td>...</td>\n      <td>22.223415</td>\n      <td>94.539262</td>\n      <td>9.636392</td>\n      <td>9.556398</td>\n      <td>9.786709</td>\n      <td>9.809599</td>\n      <td>9.608916</td>\n      <td>9.452245</td>\n      <td>2.946307</td>\n      <td>2.078919</td>\n    </tr>\n    <tr>\n      <td>std</td>\n      <td>28.628149</td>\n      <td>28.628149</td>\n      <td>0.043052</td>\n      <td>0.031745</td>\n      <td>1.977599</td>\n      <td>0.590369</td>\n      <td>0.883395</td>\n      <td>1.139480</td>\n      <td>90.250022</td>\n      <td>48.830341</td>\n      <td>...</td>\n      <td>37.730892</td>\n      <td>6.606083</td>\n      <td>0.698031</td>\n      <td>0.797274</td>\n      <td>0.595499</td>\n      <td>0.568211</td>\n      <td>0.629053</td>\n      <td>0.750259</td>\n      <td>5.893029</td>\n      <td>1.822348</td>\n    </tr>\n    <tr>\n      <td>min</td>\n      <td>1.000000</td>\n      <td>1.000000</td>\n      <td>47.505088</td>\n      <td>-122.417219</td>\n      <td>1.000000</td>\n      <td>0.000000</td>\n      <td>0.000000</td>\n      <td>1.000000</td>\n      <td>20.000000</td>\n      <td>5.000000</td>\n      <td>...</td>\n      <td>0.000000</td>\n      <td>20.000000</td>\n      <td>2.000000</td>\n      <td>3.000000</td>\n      <td>2.000000</td>\n      <td>2.000000</td>\n      <td>4.000000</td>\n      <td>2.000000</td>\n      <td>1.000000</td>\n      <td>0.020000</td>\n    </tr>\n    <tr>\n      <td>25%</td>\n      <td>1.000000</td>\n      <td>1.000000</td>\n      <td>47.609418</td>\n      <td>-122.354321</td>\n      <td>2.000000</td>\n      <td>1.000000</td>\n      <td>1.000000</td>\n      <td>1.000000</td>\n      <td>75.000000</td>\n      <td>25.000000</td>\n      <td>...</td>\n      <td>2.000000</td>\n      <td>93.000000</td>\n      <td>9.000000</td>\n      <td>9.000000</td>\n      <td>10.000000</td>\n      <td>10.000000</td>\n      <td>9.000000</td>\n      <td>9.000000</td>\n      <td>1.000000</td>\n      <td>0.695000</td>\n    </tr>\n    <tr>\n      <td>50%</td>\n      <td>1.000000</td>\n      <td>1.000000</td>\n      <td>47.623601</td>\n      <td>-122.328874</td>\n      <td>3.000000</td>\n      <td>1.000000</td>\n      <td>1.000000</td>\n      <td>1.000000</td>\n      <td>100.000000</td>\n      <td>50.000000</td>\n      <td>...</td>\n      <td>9.000000</td>\n      <td>96.000000</td>\n      <td>10.000000</td>\n      <td>10.000000</td>\n      <td>10.000000</td>\n      <td>10.000000</td>\n      <td>10.000000</td>\n      <td>10.000000</td>\n      <td>1.000000</td>\n      <td>1.540000</td>\n    </tr>\n    <tr>\n      <td>75%</td>\n      <td>3.000000</td>\n      <td>3.000000</td>\n      <td>47.662694</td>\n      <td>-122.310800</td>\n      <td>4.000000</td>\n      <td>1.000000</td>\n      <td>2.000000</td>\n      <td>2.000000</td>\n      <td>150.000000</td>\n      <td>83.000000</td>\n      <td>...</td>\n      <td>26.000000</td>\n      <td>99.000000</td>\n      <td>10.000000</td>\n      <td>10.000000</td>\n      <td>10.000000</td>\n      <td>10.000000</td>\n      <td>10.000000</td>\n      <td>10.000000</td>\n      <td>2.000000</td>\n      <td>3.000000</td>\n    </tr>\n    <tr>\n      <td>max</td>\n      <td>502.000000</td>\n      <td>502.000000</td>\n      <td>47.733358</td>\n      <td>-122.240607</td>\n      <td>16.000000</td>\n      <td>8.000000</td>\n      <td>7.000000</td>\n      <td>15.000000</td>\n      <td>1000.000000</td>\n      <td>300.000000</td>\n      <td>...</td>\n      <td>474.000000</td>\n      <td>100.000000</td>\n      <td>10.000000</td>\n      <td>10.000000</td>\n      <td>10.000000</td>\n      <td>10.000000</td>\n      <td>10.000000</td>\n      <td>10.000000</td>\n      <td>37.000000</td>\n      <td>12.150000</td>\n    </tr>\n  </tbody>\n</table>\n<p>8 rows × 28 columns</p>\n</div>"
     },
     "metadata": {},
     "execution_count": 16
    }
   ],
   "source": [
    "listings_dataFilter.describe()"
   ]
  },
  {
   "cell_type": "markdown",
   "metadata": {},
   "source": [
    "# Filling in the missing values"
   ],
   "execution_count": null,
   "outputs": []
  },
  {
   "cell_type": "markdown",
   "metadata": {},
   "source": [],
   "execution_count": null,
   "outputs": []
  },
  {
   "cell_type": "code",
   "execution_count": 17,
   "metadata": {},
   "outputs": [
    {
     "output_type": "execute_result",
     "data": {
      "text/plain": "Index(['listing_url', 'name', 'summary', 'space', 'description',\n       'neighborhood_overview', 'transit', 'thumbnail_url', 'medium_url',\n       'picture_url', 'xl_picture_url', 'host_url', 'host_name', 'host_since',\n       'host_location', 'host_about', 'host_response_time',\n       'host_response_rate', 'host_acceptance_rate', 'host_is_superhost',\n       'host_thumbnail_url', 'host_picture_url', 'host_neighbourhood',\n       'host_listings_count', 'host_total_listings_count',\n       'host_verifications', 'host_has_profile_pic', 'host_identity_verified',\n       'street', 'neighbourhood', 'neighbourhood_cleansed',\n       'neighbourhood_group_cleansed', 'city', 'state', 'zipcode',\n       'smart_location', 'latitude', 'longitude', 'is_location_exact',\n       'property_type', 'room_type', 'accommodates', 'bathrooms', 'bedrooms',\n       'beds', 'bed_type', 'amenities', 'price', 'cleaning_fee',\n       'guests_included', 'extra_people', 'minimum_nights', 'maximum_nights',\n       'calendar_updated', 'availability_30', 'availability_60',\n       'availability_90', 'availability_365', 'number_of_reviews',\n       'first_review', 'last_review', 'review_scores_rating',\n       'review_scores_accuracy', 'review_scores_cleanliness',\n       'review_scores_checkin', 'review_scores_communication',\n       'review_scores_location', 'review_scores_value', 'instant_bookable',\n       'cancellation_policy', 'require_guest_profile_picture',\n       'require_guest_phone_verification', 'calculated_host_listings_count',\n       'reviews_per_month'],\n      dtype='object')"
     },
     "metadata": {},
     "execution_count": 17
    }
   ],
   "source": [
    "listings_dataFilter.columns"
   ]
  },
  {
   "cell_type": "code",
   "execution_count": null,
   "metadata": {},
   "outputs": [],
   "source": []
  }
 ]
}