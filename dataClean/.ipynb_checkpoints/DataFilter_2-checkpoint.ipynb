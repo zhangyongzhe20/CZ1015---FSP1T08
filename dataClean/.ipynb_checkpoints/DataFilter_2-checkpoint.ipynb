{
 "cells": [
  {
   "cell_type": "markdown",
   "metadata": {},
   "source": [
    "### This the second data-cleansing script to filters off some invaluble columns."
   ]
  },
  {
   "cell_type": "markdown",
   "metadata": {},
   "source": [
    "# the column with too many missing values should be dropped. Metrics: > 30%\n",
    "## drop_columns = ['notes', 'weekly_price', 'monthly_price', 'security_deposit']"
   ]
  },
  {
   "cell_type": "code",
   "execution_count": 3,
   "metadata": {},
   "outputs": [],
   "source": [
    "# Basic Libraries\n",
    "import numpy as np\n",
    "import pandas as pd\n",
    "import seaborn as sb\n",
    "import matplotlib.pyplot as plt # we only need pyplot\n",
    "sb.set() # set the default Seaborn style for graphics"
   ]
  },
  {
   "cell_type": "code",
   "execution_count": 4,
   "metadata": {},
   "outputs": [
    {
     "data": {
      "text/plain": [
       "(3818, 64)"
      ]
     },
     "execution_count": 4,
     "metadata": {},
     "output_type": "execute_result"
    }
   ],
   "source": [
    "listings_1 = pd.read_csv('seattle/listings_1.csv')\n",
    "listings_1.shape"
   ]
  },
  {
   "cell_type": "code",
   "execution_count": 5,
   "metadata": {},
   "outputs": [
    {
     "data": {
      "text/plain": [
       "summary                        0.046359\n",
       "space                          0.149031\n",
       "neighborhood_overview          0.270299\n",
       "notes                          0.420639\n",
       "transit                        0.244631\n",
       "host_since                     0.000524\n",
       "host_response_time             0.136983\n",
       "host_response_rate             0.136983\n",
       "host_acceptance_rate           0.202462\n",
       "host_is_superhost              0.000524\n",
       "host_neighbourhood             0.078575\n",
       "host_listings_count            0.000524\n",
       "host_total_listings_count      0.000524\n",
       "host_identity_verified         0.000524\n",
       "neighbourhood                  0.108958\n",
       "zipcode                        0.001833\n",
       "property_type                  0.000262\n",
       "bathrooms                      0.004191\n",
       "bedrooms                       0.001572\n",
       "beds                           0.000262\n",
       "weekly_price                   0.473808\n",
       "monthly_price                  0.602672\n",
       "security_deposit               0.511262\n",
       "cleaning_fee                   0.269775\n",
       "first_review                   0.164222\n",
       "last_review                    0.164222\n",
       "review_scores_rating           0.169460\n",
       "review_scores_accuracy         0.172342\n",
       "review_scores_cleanliness      0.171032\n",
       "review_scores_checkin          0.172342\n",
       "review_scores_communication    0.170508\n",
       "review_scores_location         0.171556\n",
       "review_scores_value            0.171818\n",
       "reviews_per_month              0.164222\n",
       "dtype: float64"
      ]
     },
     "execution_count": 5,
     "metadata": {},
     "output_type": "execute_result"
    }
   ],
   "source": [
    "#Missing values\n",
    "null_value_stats = listings_1.isnull().sum() / listings_1.shape[0]\n",
    "null_value_stats[null_value_stats!=0]"
   ]
  },
  {
   "cell_type": "markdown",
   "metadata": {},
   "source": []
  },
  {
   "cell_type": "code",
   "execution_count": 6,
   "metadata": {},
   "outputs": [],
   "source": [
    "listings_2 = listings_1.drop(columns=['notes', 'weekly_price', 'monthly_price', 'security_deposit'])"
   ]
  },
  {
   "cell_type": "markdown",
   "metadata": {},
   "source": [
    "## Fill the current missing value with front one"
   ]
  },
  {
   "cell_type": "code",
   "execution_count": 7,
   "metadata": {},
   "outputs": [
    {
     "data": {
      "text/plain": [
       "summary                        0.046359\n",
       "space                          0.149031\n",
       "neighborhood_overview          0.270299\n",
       "transit                        0.244631\n",
       "host_since                     0.000524\n",
       "host_response_time             0.136983\n",
       "host_response_rate             0.136983\n",
       "host_acceptance_rate           0.202462\n",
       "host_is_superhost              0.000524\n",
       "host_neighbourhood             0.078575\n",
       "host_listings_count            0.000524\n",
       "host_total_listings_count      0.000524\n",
       "host_identity_verified         0.000524\n",
       "neighbourhood                  0.108958\n",
       "zipcode                        0.001833\n",
       "property_type                  0.000262\n",
       "bathrooms                      0.004191\n",
       "bedrooms                       0.001572\n",
       "beds                           0.000262\n",
       "cleaning_fee                   0.269775\n",
       "first_review                   0.164222\n",
       "last_review                    0.164222\n",
       "review_scores_rating           0.169460\n",
       "review_scores_accuracy         0.172342\n",
       "review_scores_cleanliness      0.171032\n",
       "review_scores_checkin          0.172342\n",
       "review_scores_communication    0.170508\n",
       "review_scores_location         0.171556\n",
       "review_scores_value            0.171818\n",
       "reviews_per_month              0.164222\n",
       "dtype: float64"
      ]
     },
     "execution_count": 7,
     "metadata": {},
     "output_type": "execute_result"
    }
   ],
   "source": [
    "null_value_stats = listings_2.isnull().sum() / listings_2.shape[0]\n",
    "null_value_stats[null_value_stats!=0]"
   ]
  },
  {
   "cell_type": "code",
   "execution_count": 8,
   "metadata": {},
   "outputs": [],
   "source": [
    "listings_2 = listings_2.fillna(method='ffill', axis=0)"
   ]
  },
  {
   "cell_type": "markdown",
   "metadata": {},
   "source": [
    "## the first row of some columns is na"
   ]
  },
  {
   "cell_type": "code",
   "execution_count": 9,
   "metadata": {},
   "outputs": [],
   "source": [
    "listings_2 = listings_2.fillna(method='bfill', axis=0)"
   ]
  },
  {
   "cell_type": "code",
   "execution_count": 10,
   "metadata": {},
   "outputs": [
    {
     "data": {
      "text/plain": [
       "Series([], dtype: float64)"
      ]
     },
     "execution_count": 10,
     "metadata": {},
     "output_type": "execute_result"
    }
   ],
   "source": [
    "# checking\n",
    "null_value_stats = listings_2.isnull().sum() / listings_2.shape[0]\n",
    "null_value_stats[null_value_stats!=0]"
   ]
  },
  {
   "cell_type": "code",
   "execution_count": 11,
   "metadata": {},
   "outputs": [],
   "source": [
    "##convert response data to float"
   ]
  },
  {
   "cell_type": "code",
   "execution_count": 14,
   "metadata": {},
   "outputs": [],
   "source": [
    "listings_2['price'] = listings_2['price'].replace('[\\$,]', '', regex=True).astype(float)\n",
    "listings_2['cleaning_fee'] = listings_2['cleaning_fee'].replace('[\\$,]', '', regex=True).astype(float)\n",
    "listings_2['extra_people'] = listings_2['extra_people'].replace('[\\$,]', '', regex=True).astype(float)\n",
    "listings['host_response_rate'] = listings['host_response_rate'].replace('[\\%,]', '', regex=True).astype(float)\n",
    "listings['host_acceptance_rate'] = listings['host_acceptance_rate'].replace('[\\%,]', '', regex=True).astype(float)"
   ]
  },
  {
   "cell_type": "code",
   "execution_count": 15,
   "metadata": {},
   "outputs": [],
   "source": [
    "listings_2.to_csv('seattle/listings_2.csv',index=False)"
   ]
  },
  {
   "cell_type": "code",
   "execution_count": null,
   "metadata": {},
   "outputs": [],
   "source": []
  },
  {
   "cell_type": "code",
   "execution_count": null,
   "metadata": {},
   "outputs": [],
   "source": []
  },
  {
   "cell_type": "code",
   "execution_count": null,
   "metadata": {},
   "outputs": [],
   "source": []
  },
  {
   "cell_type": "code",
   "execution_count": null,
   "metadata": {},
   "outputs": [],
   "source": []
  }
 ],
 "metadata": {
  "kernelspec": {
   "display_name": "Python 3",
   "language": "python",
   "name": "python3"
  },
  "language_info": {
   "codemirror_mode": {
    "name": "ipython",
    "version": 3
   },
   "file_extension": ".py",
   "mimetype": "text/x-python",
   "name": "python",
   "nbconvert_exporter": "python",
   "pygments_lexer": "ipython3",
   "version": "3.7.4"
  }
 },
 "nbformat": 4,
 "nbformat_minor": 2
}
