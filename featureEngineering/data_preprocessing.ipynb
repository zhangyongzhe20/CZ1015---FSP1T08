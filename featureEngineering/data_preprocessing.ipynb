{
 "nbformat": 4,
 "nbformat_minor": 2,
 "metadata": {
  "language_info": {
   "name": "python",
   "codemirror_mode": {
    "name": "ipython",
    "version": 3
   },
   "version": "3.7.6-final"
  },
  "orig_nbformat": 2,
  "file_extension": ".py",
  "mimetype": "text/x-python",
  "name": "python",
  "npconvert_exporter": "python",
  "pygments_lexer": "ipython3",
  "version": 3,
  "kernelspec": {
   "name": "python37664bitbaseconda358eabea45a24d73875c3dc09bc71b6a",
   "display_name": "Python 3.7.6 64-bit ('base': conda)"
  }
 },
 "cells": [
  {
   "cell_type": "markdown",
   "metadata": {},
   "source": [
    "# Data Preprocessing"
   ],
   "execution_count": null,
   "outputs": []
  },
  {
   "cell_type": "markdown",
   "metadata": {},
   "source": [
    "# Before this step, it's EDA part, which is the plot of the corellation between price and other predicators. And we will use the high corelation predictors as our basic predictors for model."
   ],
   "execution_count": null,
   "outputs": []
  },
  {
   "cell_type": "markdown",
   "metadata": {},
   "source": [
    "# Convert the columns contain \"$\" from categorical data into numerical data.\n",
    "# Such as price, cleaning_fee, extra_people"
   ],
   "execution_count": null,
   "outputs": []
  },
  {
   "cell_type": "code",
   "execution_count": null,
   "metadata": {},
   "outputs": [],
   "source": [
    "listings_dataFilter['price'] = listings_dataFilter['price'].replace('[\\$,]', '', regex=True).astype(float)\n",
    "listings_dataFilter['cleaning_fee'] = listings_dataFilter['cleaning_fee'].replace('[\\$,]', '', regex=True).astype(float)\n",
    "listings_dataFilter['extra_people'] = listings_dataFilter['extra_people'].replace('[\\$,]', '', regex=True).astype(float)"
   ]
  },
  {
   "cell_type": "code",
   "execution_count": null,
   "metadata": {},
   "outputs": [],
   "source": [
    "def preprocess(df):\n",
    "    temp_df = df.copy()\n",
    "    temp_df = temp_df.replace(\n",
    "            {\n",
    "            'host_has_profile_pic': {'t': True, 'f': False},\n",
    "            'host_identity_verified': {'t': True, 'f': False},\n",
    "            'require_guest_profile_picture':{'t': True, 'f': False},\n",
    "            'require_guest_phone_verification':{'t': True, 'f': False},\n",
    "            'instant_bookable': {'t': True, 'f': False},\n",
    "            'host_is_superhost':{'t': True, 'f': False},\n",
    "            'is_location_exact':{'t': True, 'f': False},\t\n",
    "            }\n",
    "    )\n",
    "    df = temp_df\n",
    "    return df"
   ]
  },
  {
   "cell_type": "code",
   "execution_count": null,
   "metadata": {},
   "outputs": [],
   "source": [
    "listings_dataFilter = preprocess(listings_dataFilter)"
   ]
  },
  {
   "cell_type": "markdown",
   "metadata": {},
   "source": [
    "# Convert the columns contain \"%\" from categorical data into numerical data.\n",
    "# Such as host_response_rate, host_acceptance_rate"
   ],
   "execution_count": null,
   "outputs": []
  },
  {
   "cell_type": "code",
   "execution_count": null,
   "metadata": {},
   "outputs": [],
   "source": [
    "listings_dataFilter['host_response_rate'] = listings_dataFilter['host_response_rate'].replace('[\\%,]', '', regex=True).astype(float)\n",
    "listings_dataFilter['host_acceptance_rate'] = listings_dataFilter['host_acceptance_rate'].replace('[\\%,]', '', regex=True).astype(float)"
   ]
  },
  {
   "cell_type": "markdown",
   "metadata": {},
   "source": [
    "# One-Hot Encoding"
   ]
  },
  {
   "cell_type": "code",
   "execution_count": null,
   "metadata": {},
   "outputs": [],
   "source": []
  }
 ]
}