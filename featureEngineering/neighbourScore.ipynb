{
 "nbformat": 4,
 "nbformat_minor": 2,
 "metadata": {
  "language_info": {
   "name": "python",
   "codemirror_mode": {
    "name": "ipython",
    "version": 3
   },
   "version": "3.7.6-final"
  },
  "orig_nbformat": 2,
  "file_extension": ".py",
  "mimetype": "text/x-python",
  "name": "python",
  "npconvert_exporter": "python",
  "pygments_lexer": "ipython3",
  "version": 3,
  "kernelspec": {
   "name": "python37664bitbaseconda358eabea45a24d73875c3dc09bc71b6a",
   "display_name": "Python 3.7.6 64-bit ('base': conda)"
  }
 },
 "cells": [
  {
   "cell_type": "code",
   "execution_count": 1,
   "metadata": {},
   "outputs": [],
   "source": [
    "# Analysis lib\n",
    "import numpy as np \n",
    "import pandas as pd "
   ]
  },
  {
   "cell_type": "code",
   "execution_count": 2,
   "metadata": {},
   "outputs": [
    {
     "output_type": "execute_result",
     "data": {
      "text/plain": "(86, 6)"
     },
     "metadata": {},
     "execution_count": 2
    }
   ],
   "source": [
    "# Reading data\n",
    "seattle_neighborScore = pd.read_csv('..\\dataset_origin\\seattle_neighborScore.csv')\n",
    "seattle_neighborScore.shape"
   ]
  },
  {
   "cell_type": "code",
   "execution_count": 3,
   "metadata": {},
   "outputs": [
    {
     "output_type": "execute_result",
     "data": {
      "text/plain": "0                   Downtown\n1     International District\n2                   Belltown\n3                 First Hill\n4             Pioneer Square\n               ...          \n81                View Ridge\n82             Arbor Heights\n83                 Riverview\n84            Matthews Beach\n85              Rainier View\nName: Name, Length: 86, dtype: object"
     },
     "metadata": {},
     "execution_count": 3
    }
   ],
   "source": [
    "seattle_neighborScore['Name']"
   ]
  },
  {
   "cell_type": "code",
   "execution_count": 4,
   "metadata": {},
   "outputs": [],
   "source": [
    "seattle_neighborScore['Name'] = seattle_neighborScore['Name'].str.replace('West Queen Anne', 'Queen Anne')\n",
    "seattle_neighborScore['Name'] = seattle_neighborScore['Name'].str.replace('.* Magnolia', 'Magnolia',regex=True)"
   ]
  },
  {
   "cell_type": "code",
   "execution_count": 5,
   "metadata": {},
   "outputs": [
    {
     "output_type": "execute_result",
     "data": {
      "text/plain": "Empty DataFrame\nColumns: [Rank#, Name, Walk Score, Transit Score, Bike Score, Population]\nIndex: []",
      "text/html": "<div>\n<style scoped>\n    .dataframe tbody tr th:only-of-type {\n        vertical-align: middle;\n    }\n\n    .dataframe tbody tr th {\n        vertical-align: top;\n    }\n\n    .dataframe thead th {\n        text-align: right;\n    }\n</style>\n<table border=\"1\" class=\"dataframe\">\n  <thead>\n    <tr style=\"text-align: right;\">\n      <th></th>\n      <th>Rank#</th>\n      <th>Name</th>\n      <th>Walk Score</th>\n      <th>Transit Score</th>\n      <th>Bike Score</th>\n      <th>Population</th>\n    </tr>\n  </thead>\n  <tbody>\n  </tbody>\n</table>\n</div>"
     },
     "metadata": {},
     "execution_count": 5
    }
   ],
   "source": [
    "# seattle_neighborScore[seattle_neighborScore['Name']=='Queen Anne']\n",
    "seattle_neighborScore[seattle_neighborScore['Name']=='Magnolia']"
   ]
  },
  {
   "cell_type": "code",
   "execution_count": 6,
   "metadata": {},
   "outputs": [
    {
     "output_type": "execute_result",
     "data": {
      "text/plain": "(3818, 92)"
     },
     "metadata": {},
     "execution_count": 6
    }
   ],
   "source": [
    "listings_holiday = pd.read_csv('..\\dataset_filter\\listings_holiday.csv')\n",
    "listings_holiday.shape"
   ]
  },
  {
   "cell_type": "code",
   "execution_count": 7,
   "metadata": {},
   "outputs": [],
   "source": [
    "listings_combined=pd.merge(seattle_neighborScore, listings_holiday, how='right', left_on=['Name'], right_on=['neighbourhood_cleansed'])"
   ]
  },
  {
   "cell_type": "code",
   "execution_count": 8,
   "metadata": {},
   "outputs": [],
   "source": [
    "#listings_combined.to_csv('..\\dataset_filter\\listings_holiday_nScore.csv',index=False)"
   ]
  },
  {
   "cell_type": "code",
   "execution_count": null,
   "metadata": {},
   "outputs": [],
   "source": []
  }
 ]
}