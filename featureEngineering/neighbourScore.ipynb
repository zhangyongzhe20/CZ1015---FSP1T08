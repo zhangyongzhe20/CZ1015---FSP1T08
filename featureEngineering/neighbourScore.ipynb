{
 "nbformat": 4,
 "nbformat_minor": 2,
 "metadata": {
  "language_info": {
   "name": "python",
   "codemirror_mode": {
    "name": "ipython",
    "version": 3
   }
  },
  "orig_nbformat": 2,
  "file_extension": ".py",
  "mimetype": "text/x-python",
  "name": "python",
  "npconvert_exporter": "python",
  "pygments_lexer": "ipython3",
  "version": 3,
  "kernelspec": {
   "name": "python37664bitbaseconda358eabea45a24d73875c3dc09bc71b6a",
   "display_name": "Python 3.7.6 64-bit ('base': conda)"
  }
 },
 "cells": [
  {
   "cell_type": "code",
   "execution_count": 96,
   "metadata": {},
   "outputs": [],
   "source": [
    "# Analysis lib\n",
    "import numpy as np \n",
    "import pandas as pd "
   ]
  },
  {
   "cell_type": "code",
   "execution_count": 97,
   "metadata": {},
   "outputs": [
    {
     "output_type": "execute_result",
     "data": {
      "text/plain": "(86, 6)"
     },
     "metadata": {},
     "execution_count": 97
    }
   ],
   "source": [
    "# Reading data\n",
    "seattle_neighborScore = pd.read_csv('..\\dataset_origin\\seattle_neighborScore.csv')\n",
    "seattle_neighborScore.shape"
   ]
  },
  {
   "cell_type": "code",
   "execution_count": 98,
   "metadata": {},
   "outputs": [],
   "source": [
    "seattle_neighborScore['Name'] = seattle_neighborScore['Name'].str.replace('West Queen Anne', 'Queen Anne')\n",
    "seattle_neighborScore['Name'] = seattle_neighborScore['Name'].str.replace('.* Magnolia', 'Magnolia',regex=True)"
   ]
  },
  {
   "cell_type": "code",
   "execution_count": 99,
   "metadata": {},
   "outputs": [
    {
     "output_type": "execute_result",
     "data": {
      "text/plain": "    Rank#      Name  Walk Score  Transit Score  Bike Score Population\n49     50  Magnolia          68             44          67      4,891",
      "text/html": "<div>\n<style scoped>\n    .dataframe tbody tr th:only-of-type {\n        vertical-align: middle;\n    }\n\n    .dataframe tbody tr th {\n        vertical-align: top;\n    }\n\n    .dataframe thead th {\n        text-align: right;\n    }\n</style>\n<table border=\"1\" class=\"dataframe\">\n  <thead>\n    <tr style=\"text-align: right;\">\n      <th></th>\n      <th>Rank#</th>\n      <th>Name</th>\n      <th>Walk Score</th>\n      <th>Transit Score</th>\n      <th>Bike Score</th>\n      <th>Population</th>\n    </tr>\n  </thead>\n  <tbody>\n    <tr>\n      <th>49</th>\n      <td>50</td>\n      <td>Magnolia</td>\n      <td>68</td>\n      <td>44</td>\n      <td>67</td>\n      <td>4,891</td>\n    </tr>\n  </tbody>\n</table>\n</div>"
     },
     "metadata": {},
     "execution_count": 99
    }
   ],
   "source": [
    "# seattle_neighborScore[seattle_neighborScore['Name']=='Queen Anne']\n",
    "seattle_neighborScore[seattle_neighborScore['Name']=='Magnolia']"
   ]
  },
  {
   "cell_type": "code",
   "execution_count": 100,
   "metadata": {},
   "outputs": [
    {
     "output_type": "execute_result",
     "data": {
      "text/plain": "(3818, 92)"
     },
     "metadata": {},
     "execution_count": 100
    }
   ],
   "source": [
    "listings_holiday = pd.read_csv('..\\dataset_filter\\listings_holiday.csv')\n",
    "listings_holiday.shape"
   ]
  },
  {
   "cell_type": "code",
   "execution_count": 101,
   "metadata": {},
   "outputs": [],
   "source": [
    "listings_combined=pd.merge(seattle_neighborScore, listings_holiday, how='right', left_on=['Name'], right_on=['neighbourhood_cleansed'])"
   ]
  },
  {
   "cell_type": "code",
   "execution_count": 102,
   "metadata": {},
   "outputs": [],
   "source": [
    "#listings_combined.to_csv('..\\dataset_filter\\listings_holiday_nScore.csv',index=False)"
   ]
  },
  {
   "cell_type": "code",
   "execution_count": null,
   "metadata": {},
   "outputs": [],
   "source": []
  }
 ]
}