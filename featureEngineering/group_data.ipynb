{
 "cells": [
  {
   "cell_type": "code",
   "execution_count": 1,
   "metadata": {},
   "outputs": [],
   "source": [
    "# Basic Libraries\n",
    "import numpy as np\n",
    "import pandas as pd\n",
    "import seaborn as sb\n",
    "import matplotlib.pyplot as plt # we only need pyplot\n",
    "sb.set() # set the default Seaborn style for graphics"
   ]
  },
  {
   "cell_type": "code",
   "execution_count": 2,
   "metadata": {},
   "outputs": [
    {
     "ename": "FileNotFoundError",
     "evalue": "[Errno 2] File b'Desktop\\\\dataset_filter\\\\listings_3.csv' does not exist: b'Desktop\\\\dataset_filter\\\\listings_3.csv'",
     "output_type": "error",
     "traceback": [
      "\u001b[1;31m---------------------------------------------------------------------------\u001b[0m",
      "\u001b[1;31mFileNotFoundError\u001b[0m                         Traceback (most recent call last)",
      "\u001b[1;32m<ipython-input-2-f6d922344530>\u001b[0m in \u001b[0;36m<module>\u001b[1;34m\u001b[0m\n\u001b[0;32m      1\u001b[0m \u001b[1;31m# Reading data\u001b[0m\u001b[1;33m\u001b[0m\u001b[1;33m\u001b[0m\u001b[1;33m\u001b[0m\u001b[0m\n\u001b[1;32m----> 2\u001b[1;33m \u001b[0mlistings\u001b[0m \u001b[1;33m=\u001b[0m \u001b[0mpd\u001b[0m\u001b[1;33m.\u001b[0m\u001b[0mread_csv\u001b[0m\u001b[1;33m(\u001b[0m\u001b[1;34m'Desktop\\dataset_filter\\listings_3.csv'\u001b[0m\u001b[1;33m)\u001b[0m\u001b[1;33m\u001b[0m\u001b[1;33m\u001b[0m\u001b[0m\n\u001b[0m\u001b[0;32m      3\u001b[0m \u001b[0mlistings\u001b[0m\u001b[1;33m.\u001b[0m\u001b[0mshape\u001b[0m\u001b[1;33m\u001b[0m\u001b[1;33m\u001b[0m\u001b[0m\n",
      "\u001b[1;32mD:\\jupyter notebook\\lib\\site-packages\\pandas\\io\\parsers.py\u001b[0m in \u001b[0;36mparser_f\u001b[1;34m(filepath_or_buffer, sep, delimiter, header, names, index_col, usecols, squeeze, prefix, mangle_dupe_cols, dtype, engine, converters, true_values, false_values, skipinitialspace, skiprows, skipfooter, nrows, na_values, keep_default_na, na_filter, verbose, skip_blank_lines, parse_dates, infer_datetime_format, keep_date_col, date_parser, dayfirst, cache_dates, iterator, chunksize, compression, thousands, decimal, lineterminator, quotechar, quoting, doublequote, escapechar, comment, encoding, dialect, error_bad_lines, warn_bad_lines, delim_whitespace, low_memory, memory_map, float_precision)\u001b[0m\n\u001b[0;32m    683\u001b[0m         )\n\u001b[0;32m    684\u001b[0m \u001b[1;33m\u001b[0m\u001b[0m\n\u001b[1;32m--> 685\u001b[1;33m         \u001b[1;32mreturn\u001b[0m \u001b[0m_read\u001b[0m\u001b[1;33m(\u001b[0m\u001b[0mfilepath_or_buffer\u001b[0m\u001b[1;33m,\u001b[0m \u001b[0mkwds\u001b[0m\u001b[1;33m)\u001b[0m\u001b[1;33m\u001b[0m\u001b[1;33m\u001b[0m\u001b[0m\n\u001b[0m\u001b[0;32m    686\u001b[0m \u001b[1;33m\u001b[0m\u001b[0m\n\u001b[0;32m    687\u001b[0m     \u001b[0mparser_f\u001b[0m\u001b[1;33m.\u001b[0m\u001b[0m__name__\u001b[0m \u001b[1;33m=\u001b[0m \u001b[0mname\u001b[0m\u001b[1;33m\u001b[0m\u001b[1;33m\u001b[0m\u001b[0m\n",
      "\u001b[1;32mD:\\jupyter notebook\\lib\\site-packages\\pandas\\io\\parsers.py\u001b[0m in \u001b[0;36m_read\u001b[1;34m(filepath_or_buffer, kwds)\u001b[0m\n\u001b[0;32m    455\u001b[0m \u001b[1;33m\u001b[0m\u001b[0m\n\u001b[0;32m    456\u001b[0m     \u001b[1;31m# Create the parser.\u001b[0m\u001b[1;33m\u001b[0m\u001b[1;33m\u001b[0m\u001b[1;33m\u001b[0m\u001b[0m\n\u001b[1;32m--> 457\u001b[1;33m     \u001b[0mparser\u001b[0m \u001b[1;33m=\u001b[0m \u001b[0mTextFileReader\u001b[0m\u001b[1;33m(\u001b[0m\u001b[0mfp_or_buf\u001b[0m\u001b[1;33m,\u001b[0m \u001b[1;33m**\u001b[0m\u001b[0mkwds\u001b[0m\u001b[1;33m)\u001b[0m\u001b[1;33m\u001b[0m\u001b[1;33m\u001b[0m\u001b[0m\n\u001b[0m\u001b[0;32m    458\u001b[0m \u001b[1;33m\u001b[0m\u001b[0m\n\u001b[0;32m    459\u001b[0m     \u001b[1;32mif\u001b[0m \u001b[0mchunksize\u001b[0m \u001b[1;32mor\u001b[0m \u001b[0miterator\u001b[0m\u001b[1;33m:\u001b[0m\u001b[1;33m\u001b[0m\u001b[1;33m\u001b[0m\u001b[0m\n",
      "\u001b[1;32mD:\\jupyter notebook\\lib\\site-packages\\pandas\\io\\parsers.py\u001b[0m in \u001b[0;36m__init__\u001b[1;34m(self, f, engine, **kwds)\u001b[0m\n\u001b[0;32m    893\u001b[0m             \u001b[0mself\u001b[0m\u001b[1;33m.\u001b[0m\u001b[0moptions\u001b[0m\u001b[1;33m[\u001b[0m\u001b[1;34m\"has_index_names\"\u001b[0m\u001b[1;33m]\u001b[0m \u001b[1;33m=\u001b[0m \u001b[0mkwds\u001b[0m\u001b[1;33m[\u001b[0m\u001b[1;34m\"has_index_names\"\u001b[0m\u001b[1;33m]\u001b[0m\u001b[1;33m\u001b[0m\u001b[1;33m\u001b[0m\u001b[0m\n\u001b[0;32m    894\u001b[0m \u001b[1;33m\u001b[0m\u001b[0m\n\u001b[1;32m--> 895\u001b[1;33m         \u001b[0mself\u001b[0m\u001b[1;33m.\u001b[0m\u001b[0m_make_engine\u001b[0m\u001b[1;33m(\u001b[0m\u001b[0mself\u001b[0m\u001b[1;33m.\u001b[0m\u001b[0mengine\u001b[0m\u001b[1;33m)\u001b[0m\u001b[1;33m\u001b[0m\u001b[1;33m\u001b[0m\u001b[0m\n\u001b[0m\u001b[0;32m    896\u001b[0m \u001b[1;33m\u001b[0m\u001b[0m\n\u001b[0;32m    897\u001b[0m     \u001b[1;32mdef\u001b[0m \u001b[0mclose\u001b[0m\u001b[1;33m(\u001b[0m\u001b[0mself\u001b[0m\u001b[1;33m)\u001b[0m\u001b[1;33m:\u001b[0m\u001b[1;33m\u001b[0m\u001b[1;33m\u001b[0m\u001b[0m\n",
      "\u001b[1;32mD:\\jupyter notebook\\lib\\site-packages\\pandas\\io\\parsers.py\u001b[0m in \u001b[0;36m_make_engine\u001b[1;34m(self, engine)\u001b[0m\n\u001b[0;32m   1133\u001b[0m     \u001b[1;32mdef\u001b[0m \u001b[0m_make_engine\u001b[0m\u001b[1;33m(\u001b[0m\u001b[0mself\u001b[0m\u001b[1;33m,\u001b[0m \u001b[0mengine\u001b[0m\u001b[1;33m=\u001b[0m\u001b[1;34m\"c\"\u001b[0m\u001b[1;33m)\u001b[0m\u001b[1;33m:\u001b[0m\u001b[1;33m\u001b[0m\u001b[1;33m\u001b[0m\u001b[0m\n\u001b[0;32m   1134\u001b[0m         \u001b[1;32mif\u001b[0m \u001b[0mengine\u001b[0m \u001b[1;33m==\u001b[0m \u001b[1;34m\"c\"\u001b[0m\u001b[1;33m:\u001b[0m\u001b[1;33m\u001b[0m\u001b[1;33m\u001b[0m\u001b[0m\n\u001b[1;32m-> 1135\u001b[1;33m             \u001b[0mself\u001b[0m\u001b[1;33m.\u001b[0m\u001b[0m_engine\u001b[0m \u001b[1;33m=\u001b[0m \u001b[0mCParserWrapper\u001b[0m\u001b[1;33m(\u001b[0m\u001b[0mself\u001b[0m\u001b[1;33m.\u001b[0m\u001b[0mf\u001b[0m\u001b[1;33m,\u001b[0m \u001b[1;33m**\u001b[0m\u001b[0mself\u001b[0m\u001b[1;33m.\u001b[0m\u001b[0moptions\u001b[0m\u001b[1;33m)\u001b[0m\u001b[1;33m\u001b[0m\u001b[1;33m\u001b[0m\u001b[0m\n\u001b[0m\u001b[0;32m   1136\u001b[0m         \u001b[1;32melse\u001b[0m\u001b[1;33m:\u001b[0m\u001b[1;33m\u001b[0m\u001b[1;33m\u001b[0m\u001b[0m\n\u001b[0;32m   1137\u001b[0m             \u001b[1;32mif\u001b[0m \u001b[0mengine\u001b[0m \u001b[1;33m==\u001b[0m \u001b[1;34m\"python\"\u001b[0m\u001b[1;33m:\u001b[0m\u001b[1;33m\u001b[0m\u001b[1;33m\u001b[0m\u001b[0m\n",
      "\u001b[1;32mD:\\jupyter notebook\\lib\\site-packages\\pandas\\io\\parsers.py\u001b[0m in \u001b[0;36m__init__\u001b[1;34m(self, src, **kwds)\u001b[0m\n\u001b[0;32m   1915\u001b[0m         \u001b[0mkwds\u001b[0m\u001b[1;33m[\u001b[0m\u001b[1;34m\"usecols\"\u001b[0m\u001b[1;33m]\u001b[0m \u001b[1;33m=\u001b[0m \u001b[0mself\u001b[0m\u001b[1;33m.\u001b[0m\u001b[0musecols\u001b[0m\u001b[1;33m\u001b[0m\u001b[1;33m\u001b[0m\u001b[0m\n\u001b[0;32m   1916\u001b[0m \u001b[1;33m\u001b[0m\u001b[0m\n\u001b[1;32m-> 1917\u001b[1;33m         \u001b[0mself\u001b[0m\u001b[1;33m.\u001b[0m\u001b[0m_reader\u001b[0m \u001b[1;33m=\u001b[0m \u001b[0mparsers\u001b[0m\u001b[1;33m.\u001b[0m\u001b[0mTextReader\u001b[0m\u001b[1;33m(\u001b[0m\u001b[0msrc\u001b[0m\u001b[1;33m,\u001b[0m \u001b[1;33m**\u001b[0m\u001b[0mkwds\u001b[0m\u001b[1;33m)\u001b[0m\u001b[1;33m\u001b[0m\u001b[1;33m\u001b[0m\u001b[0m\n\u001b[0m\u001b[0;32m   1918\u001b[0m         \u001b[0mself\u001b[0m\u001b[1;33m.\u001b[0m\u001b[0munnamed_cols\u001b[0m \u001b[1;33m=\u001b[0m \u001b[0mself\u001b[0m\u001b[1;33m.\u001b[0m\u001b[0m_reader\u001b[0m\u001b[1;33m.\u001b[0m\u001b[0munnamed_cols\u001b[0m\u001b[1;33m\u001b[0m\u001b[1;33m\u001b[0m\u001b[0m\n\u001b[0;32m   1919\u001b[0m \u001b[1;33m\u001b[0m\u001b[0m\n",
      "\u001b[1;32mpandas\\_libs\\parsers.pyx\u001b[0m in \u001b[0;36mpandas._libs.parsers.TextReader.__cinit__\u001b[1;34m()\u001b[0m\n",
      "\u001b[1;32mpandas\\_libs\\parsers.pyx\u001b[0m in \u001b[0;36mpandas._libs.parsers.TextReader._setup_parser_source\u001b[1;34m()\u001b[0m\n",
      "\u001b[1;31mFileNotFoundError\u001b[0m: [Errno 2] File b'Desktop\\\\dataset_filter\\\\listings_3.csv' does not exist: b'Desktop\\\\dataset_filter\\\\listings_3.csv'"
     ]
    }
   ],
   "source": [
    "# Reading data\n",
    "listings = pd.read_csv('Desktop\\dataset_filter\\listings_3.csv')\n",
    "listings.shape"
   ]
  },
  {
   "cell_type": "code",
   "execution_count": null,
   "metadata": {},
   "outputs": [],
   "source": [
    "listings['extra_people'] = listings['extra_people'].astype(float)\n"
   ]
  },
  {
   "cell_type": "code",
   "execution_count": null,
   "metadata": {},
   "outputs": [],
   "source": [
    "#Check for columns infomation\n",
    "listings.info()"
   ]
  },
  {
   "cell_type": "code",
   "execution_count": null,
   "metadata": {},
   "outputs": [],
   "source": [
    "#print the unique values for neighborhood\n",
    "print(\"Number of neighbourhood :\", len(listings[\"neighbourhood\"].unique()))\n",
    "\n",
    "# neighborhood plot\n",
    "print(listings[\"neighbourhood\"].value_counts())\n",
    "sb.catplot(y = \"neighbourhood\", data = listings, kind = \"count\")"
   ]
  },
  {
   "cell_type": "code",
   "execution_count": null,
   "metadata": {},
   "outputs": [],
   "source": [
    "#print the unique values for neighbourhood_cleansed\n",
    "print(\"Number of neighbourhood_cleansed :\", len(listings[\"neighbourhood_cleansed\"].unique()))\n",
    "\n",
    "# neighbourhood_cleansed plot\n",
    "print(listings[\"neighbourhood_cleansed\"].value_counts())\n",
    "sb.catplot(y = \"neighbourhood_cleansed\", data = listings, kind = \"count\")"
   ]
  },
  {
   "cell_type": "code",
   "execution_count": null,
   "metadata": {},
   "outputs": [],
   "source": [
    "#print the unique values for neighbourhood_group_cleansed\n",
    "print(\"Number of neighbourhood_group_cleansed :\", len(listings[\"neighbourhood_group_cleansed\"].unique()))\n",
    "\n",
    "# neighbourhood_group_cleansed plot\n",
    "print(listings[\"neighbourhood_group_cleansed\"].value_counts())\n",
    "sb.catplot(y = \"neighbourhood_group_cleansed\", data = listings, kind = \"count\")"
   ]
  },
  {
   "cell_type": "code",
   "execution_count": null,
   "metadata": {},
   "outputs": [],
   "source": [
    "\n",
    "#print the unique values for host_neighbourhood\n",
    "print(\"Number of host_neighbourhood :\", len(listings[\"host_neighbourhood\"].unique()))\n",
    "\n",
    "# host_neighbourhood plot\n",
    "print(listings[\"host_neighbourhood\"].value_counts())\n",
    "sb.catplot(y = \"host_neighbourhood\", data = listings, kind = \"count\")"
   ]
  },
  {
   "cell_type": "code",
   "execution_count": 3,
   "metadata": {
    "scrolled": true
   },
   "outputs": [
    {
     "ename": "NameError",
     "evalue": "name 'listings' is not defined",
     "output_type": "error",
     "traceback": [
      "\u001b[1;31m---------------------------------------------------------------------------\u001b[0m",
      "\u001b[1;31mNameError\u001b[0m                                 Traceback (most recent call last)",
      "\u001b[1;32m<ipython-input-3-88228fd65079>\u001b[0m in \u001b[0;36m<module>\u001b[1;34m\u001b[0m\n\u001b[0;32m      1\u001b[0m \u001b[1;31m#print the unique values for zipcode\u001b[0m\u001b[1;33m\u001b[0m\u001b[1;33m\u001b[0m\u001b[1;33m\u001b[0m\u001b[0m\n\u001b[1;32m----> 2\u001b[1;33m \u001b[0mprint\u001b[0m\u001b[1;33m(\u001b[0m\u001b[1;34m\"Number of zipcode :\"\u001b[0m\u001b[1;33m,\u001b[0m \u001b[0mlen\u001b[0m\u001b[1;33m(\u001b[0m\u001b[0mlistings\u001b[0m\u001b[1;33m[\u001b[0m\u001b[1;34m\"zipcode\"\u001b[0m\u001b[1;33m]\u001b[0m\u001b[1;33m.\u001b[0m\u001b[0munique\u001b[0m\u001b[1;33m(\u001b[0m\u001b[1;33m)\u001b[0m\u001b[1;33m)\u001b[0m\u001b[1;33m)\u001b[0m\u001b[1;33m\u001b[0m\u001b[1;33m\u001b[0m\u001b[0m\n\u001b[0m\u001b[0;32m      3\u001b[0m \u001b[1;33m\u001b[0m\u001b[0m\n\u001b[0;32m      4\u001b[0m \u001b[1;31m# zipcode plot\u001b[0m\u001b[1;33m\u001b[0m\u001b[1;33m\u001b[0m\u001b[1;33m\u001b[0m\u001b[0m\n\u001b[0;32m      5\u001b[0m \u001b[0mprint\u001b[0m\u001b[1;33m(\u001b[0m\u001b[0mlistings\u001b[0m\u001b[1;33m[\u001b[0m\u001b[1;34m\"zipcode\"\u001b[0m\u001b[1;33m]\u001b[0m\u001b[1;33m.\u001b[0m\u001b[0mvalue_counts\u001b[0m\u001b[1;33m(\u001b[0m\u001b[1;33m)\u001b[0m\u001b[1;33m)\u001b[0m\u001b[1;33m\u001b[0m\u001b[1;33m\u001b[0m\u001b[0m\n",
      "\u001b[1;31mNameError\u001b[0m: name 'listings' is not defined"
     ]
    }
   ],
   "source": [
    "\n",
    "#print the unique values for zipcode\n",
    "print(\"Number of zipcode :\", len(listings[\"zipcode\"].unique()))\n",
    "\n",
    "# zipcode plot\n",
    "print(listings[\"zipcode\"].value_counts())\n",
    "sb.catplot(y = \"zipcode\", data = listings, kind = \"count\")"
   ]
  },
  {
   "cell_type": "code",
   "execution_count": 26,
   "metadata": {},
   "outputs": [],
   "source": [
    "#In the previous data cleasing part, we have already found that neighbourhood_group_cleansed and neighbourhood_cleansed have no missing value."
   ]
  },
  {
   "cell_type": "code",
   "execution_count": 27,
   "metadata": {},
   "outputs": [],
   "source": [
    "#By plotting the unique categories, we find that neighbourhood_group_cleansed has fewer categories. \n",
    "#Therefore, we choose this as criteria for zoning."
   ]
  },
  {
   "cell_type": "code",
   "execution_count": null,
   "metadata": {},
   "outputs": [],
   "source": []
  },
  {
   "cell_type": "code",
   "execution_count": 28,
   "metadata": {},
   "outputs": [
    {
     "data": {
      "text/html": [
       "<div>\n",
       "<style scoped>\n",
       "    .dataframe tbody tr th:only-of-type {\n",
       "        vertical-align: middle;\n",
       "    }\n",
       "\n",
       "    .dataframe tbody tr th {\n",
       "        vertical-align: top;\n",
       "    }\n",
       "\n",
       "    .dataframe thead th {\n",
       "        text-align: right;\n",
       "    }\n",
       "</style>\n",
       "<table border=\"1\" class=\"dataframe\">\n",
       "  <thead>\n",
       "    <tr style=\"text-align: right;\">\n",
       "      <th></th>\n",
       "      <th>id</th>\n",
       "      <th>name</th>\n",
       "      <th>summary</th>\n",
       "      <th>space</th>\n",
       "      <th>description</th>\n",
       "      <th>neighborhood_overview</th>\n",
       "      <th>transit</th>\n",
       "      <th>host_id</th>\n",
       "      <th>host_since</th>\n",
       "      <th>host_response_time</th>\n",
       "      <th>...</th>\n",
       "      <th>Kitchen</th>\n",
       "      <th>Laundry Facility</th>\n",
       "      <th>Pet Friendly</th>\n",
       "      <th>Pool</th>\n",
       "      <th>Safety Features</th>\n",
       "      <th>Security Features</th>\n",
       "      <th>Smoking Allowed</th>\n",
       "      <th>Suitable for Events</th>\n",
       "      <th>TV</th>\n",
       "      <th>Weather Control</th>\n",
       "    </tr>\n",
       "  </thead>\n",
       "  <tbody>\n",
       "  </tbody>\n",
       "</table>\n",
       "<p>0 rows × 79 columns</p>\n",
       "</div>"
      ],
      "text/plain": [
       "Empty DataFrame\n",
       "Columns: [id, name, summary, space, description, neighborhood_overview, transit, host_id, host_since, host_response_time, host_response_rate, host_acceptance_rate, host_is_superhost, host_neighbourhood, host_listings_count, host_total_listings_count, host_verifications, host_identity_verified, street, neighbourhood, neighbourhood_cleansed, neighbourhood_group_cleansed, zipcode, is_location_exact, property_type, room_type, accommodates, bathrooms, bedrooms, beds, bed_type, amenities, price, cleaning_fee, guests_included, extra_people, minimum_nights, maximum_nights, calendar_updated, has_availability, availability_30, availability_60, availability_90, availability_365, number_of_reviews, first_review, last_review, review_scores_rating, review_scores_accuracy, review_scores_cleanliness, review_scores_checkin, review_scores_communication, review_scores_location, review_scores_value, instant_bookable, cancellation_policy, require_guest_profile_picture, require_guest_phone_verification, calculated_host_listings_count, reviews_per_month, 24-Hour Check-in, Access Friendly, Breakfast, Essentials, Family/Kid Friendly, Free Parking on Premises, Gym, Hot Tub, Internet, Kitchen, Laundry Facility, Pet Friendly, Pool, Safety Features, Security Features, Smoking Allowed, Suitable for Events, TV, Weather Control]\n",
       "Index: []\n",
       "\n",
       "[0 rows x 79 columns]"
      ]
     },
     "execution_count": 28,
     "metadata": {},
     "output_type": "execute_result"
    }
   ],
   "source": [
    "listings.loc[listings.neighbourhood_group_cleansed=='5']\n",
    "\n",
    "\n",
    "\n",
    "\n",
    "\n",
    "\n",
    "\n"
   ]
  },
  {
   "cell_type": "code",
   "execution_count": 29,
   "metadata": {},
   "outputs": [
    {
     "data": {
      "text/html": [
       "<div>\n",
       "<style scoped>\n",
       "    .dataframe tbody tr th:only-of-type {\n",
       "        vertical-align: middle;\n",
       "    }\n",
       "\n",
       "    .dataframe tbody tr th {\n",
       "        vertical-align: top;\n",
       "    }\n",
       "\n",
       "    .dataframe thead th {\n",
       "        text-align: right;\n",
       "    }\n",
       "</style>\n",
       "<table border=\"1\" class=\"dataframe\">\n",
       "  <thead>\n",
       "    <tr style=\"text-align: right;\">\n",
       "      <th></th>\n",
       "      <th>id</th>\n",
       "      <th>name</th>\n",
       "      <th>summary</th>\n",
       "      <th>space</th>\n",
       "      <th>description</th>\n",
       "      <th>neighborhood_overview</th>\n",
       "      <th>transit</th>\n",
       "      <th>host_id</th>\n",
       "      <th>host_since</th>\n",
       "      <th>host_response_time</th>\n",
       "      <th>...</th>\n",
       "      <th>Kitchen</th>\n",
       "      <th>Laundry Facility</th>\n",
       "      <th>Pet Friendly</th>\n",
       "      <th>Pool</th>\n",
       "      <th>Safety Features</th>\n",
       "      <th>Security Features</th>\n",
       "      <th>Smoking Allowed</th>\n",
       "      <th>Suitable for Events</th>\n",
       "      <th>TV</th>\n",
       "      <th>Weather Control</th>\n",
       "    </tr>\n",
       "  </thead>\n",
       "  <tbody>\n",
       "  </tbody>\n",
       "</table>\n",
       "<p>0 rows × 79 columns</p>\n",
       "</div>"
      ],
      "text/plain": [
       "Empty DataFrame\n",
       "Columns: [id, name, summary, space, description, neighborhood_overview, transit, host_id, host_since, host_response_time, host_response_rate, host_acceptance_rate, host_is_superhost, host_neighbourhood, host_listings_count, host_total_listings_count, host_verifications, host_identity_verified, street, neighbourhood, neighbourhood_cleansed, neighbourhood_group_cleansed, zipcode, is_location_exact, property_type, room_type, accommodates, bathrooms, bedrooms, beds, bed_type, amenities, price, cleaning_fee, guests_included, extra_people, minimum_nights, maximum_nights, calendar_updated, has_availability, availability_30, availability_60, availability_90, availability_365, number_of_reviews, first_review, last_review, review_scores_rating, review_scores_accuracy, review_scores_cleanliness, review_scores_checkin, review_scores_communication, review_scores_location, review_scores_value, instant_bookable, cancellation_policy, require_guest_profile_picture, require_guest_phone_verification, calculated_host_listings_count, reviews_per_month, 24-Hour Check-in, Access Friendly, Breakfast, Essentials, Family/Kid Friendly, Free Parking on Premises, Gym, Hot Tub, Internet, Kitchen, Laundry Facility, Pet Friendly, Pool, Safety Features, Security Features, Smoking Allowed, Suitable for Events, TV, Weather Control]\n",
       "Index: []\n",
       "\n",
       "[0 rows x 79 columns]"
      ]
     },
     "execution_count": 29,
     "metadata": {},
     "output_type": "execute_result"
    }
   ],
   "source": [
    "listings.loc[listings.zipcode=='t']"
   ]
  },
  {
   "cell_type": "code",
   "execution_count": null,
   "metadata": {},
   "outputs": [],
   "source": []
  },
  {
   "cell_type": "code",
   "execution_count": 30,
   "metadata": {},
   "outputs": [
    {
     "data": {
      "text/html": [
       "<div>\n",
       "<style scoped>\n",
       "    .dataframe tbody tr th:only-of-type {\n",
       "        vertical-align: middle;\n",
       "    }\n",
       "\n",
       "    .dataframe tbody tr th {\n",
       "        vertical-align: top;\n",
       "    }\n",
       "\n",
       "    .dataframe thead th {\n",
       "        text-align: right;\n",
       "    }\n",
       "</style>\n",
       "<table border=\"1\" class=\"dataframe\">\n",
       "  <thead>\n",
       "    <tr style=\"text-align: right;\">\n",
       "      <th></th>\n",
       "      <th>id</th>\n",
       "      <th>name</th>\n",
       "      <th>summary</th>\n",
       "      <th>space</th>\n",
       "      <th>description</th>\n",
       "      <th>neighborhood_overview</th>\n",
       "      <th>transit</th>\n",
       "      <th>host_id</th>\n",
       "      <th>host_since</th>\n",
       "      <th>host_response_time</th>\n",
       "      <th>...</th>\n",
       "      <th>Kitchen</th>\n",
       "      <th>Laundry Facility</th>\n",
       "      <th>Pet Friendly</th>\n",
       "      <th>Pool</th>\n",
       "      <th>Safety Features</th>\n",
       "      <th>Security Features</th>\n",
       "      <th>Smoking Allowed</th>\n",
       "      <th>Suitable for Events</th>\n",
       "      <th>TV</th>\n",
       "      <th>Weather Control</th>\n",
       "    </tr>\n",
       "  </thead>\n",
       "  <tbody>\n",
       "    <tr>\n",
       "      <td>0</td>\n",
       "      <td>241032</td>\n",
       "      <td>Stylish Queen Anne Apartment</td>\n",
       "      <td>Chemically sensitive? We've removed the irrita...</td>\n",
       "      <td>Make your self at home in this charming one-be...</td>\n",
       "      <td>Make your self at home in this charming one-be...</td>\n",
       "      <td>Queen Anne is a wonderful, truly functional vi...</td>\n",
       "      <td>Convenient bus stops are just down the block, ...</td>\n",
       "      <td>956883</td>\n",
       "      <td>11/8/2011</td>\n",
       "      <td>within a few hours</td>\n",
       "      <td>...</td>\n",
       "      <td>True</td>\n",
       "      <td>True</td>\n",
       "      <td>False</td>\n",
       "      <td>False</td>\n",
       "      <td>False</td>\n",
       "      <td>False</td>\n",
       "      <td>False</td>\n",
       "      <td>False</td>\n",
       "      <td>True</td>\n",
       "      <td>True</td>\n",
       "    </tr>\n",
       "    <tr>\n",
       "      <td>1</td>\n",
       "      <td>953595</td>\n",
       "      <td>Bright &amp; Airy Queen Anne Apartment</td>\n",
       "      <td>Chemically sensitive? We've removed the irrita...</td>\n",
       "      <td>Beautiful, hypoallergenic apartment in an extr...</td>\n",
       "      <td>Chemically sensitive? We've removed the irrita...</td>\n",
       "      <td>Queen Anne is a wonderful, truly functional vi...</td>\n",
       "      <td>Convenient bus stops are just down the block, ...</td>\n",
       "      <td>5177328</td>\n",
       "      <td>21/2/2013</td>\n",
       "      <td>within an hour</td>\n",
       "      <td>...</td>\n",
       "      <td>True</td>\n",
       "      <td>True</td>\n",
       "      <td>False</td>\n",
       "      <td>False</td>\n",
       "      <td>True</td>\n",
       "      <td>True</td>\n",
       "      <td>False</td>\n",
       "      <td>False</td>\n",
       "      <td>True</td>\n",
       "      <td>True</td>\n",
       "    </tr>\n",
       "    <tr>\n",
       "      <td>2</td>\n",
       "      <td>3308979</td>\n",
       "      <td>New Modern House-Amazing water view</td>\n",
       "      <td>New modern house built in 2013.  Spectacular s...</td>\n",
       "      <td>Our house is modern, light and fresh with a wa...</td>\n",
       "      <td>New modern house built in 2013.  Spectacular s...</td>\n",
       "      <td>Upper Queen Anne is a charming neighborhood fu...</td>\n",
       "      <td>A bus stop is just 2 blocks away.   Easy bus a...</td>\n",
       "      <td>16708587</td>\n",
       "      <td>12/6/2014</td>\n",
       "      <td>within a few hours</td>\n",
       "      <td>...</td>\n",
       "      <td>True</td>\n",
       "      <td>True</td>\n",
       "      <td>True</td>\n",
       "      <td>False</td>\n",
       "      <td>True</td>\n",
       "      <td>False</td>\n",
       "      <td>False</td>\n",
       "      <td>False</td>\n",
       "      <td>True</td>\n",
       "      <td>True</td>\n",
       "    </tr>\n",
       "    <tr>\n",
       "      <td>3</td>\n",
       "      <td>7421966</td>\n",
       "      <td>Queen Anne Chateau</td>\n",
       "      <td>A charming apartment that sits atop Queen Anne...</td>\n",
       "      <td>Our house is modern, light and fresh with a wa...</td>\n",
       "      <td>A charming apartment that sits atop Queen Anne...</td>\n",
       "      <td>Upper Queen Anne is a charming neighborhood fu...</td>\n",
       "      <td>A bus stop is just 2 blocks away.   Easy bus a...</td>\n",
       "      <td>9851441</td>\n",
       "      <td>6/11/2013</td>\n",
       "      <td>within a few hours</td>\n",
       "      <td>...</td>\n",
       "      <td>True</td>\n",
       "      <td>True</td>\n",
       "      <td>False</td>\n",
       "      <td>False</td>\n",
       "      <td>True</td>\n",
       "      <td>True</td>\n",
       "      <td>False</td>\n",
       "      <td>False</td>\n",
       "      <td>False</td>\n",
       "      <td>True</td>\n",
       "    </tr>\n",
       "    <tr>\n",
       "      <td>4</td>\n",
       "      <td>278830</td>\n",
       "      <td>Charming craftsman 3 bdm house</td>\n",
       "      <td>Cozy family craftman house in beautiful neighb...</td>\n",
       "      <td>Cozy family craftman house in beautiful neighb...</td>\n",
       "      <td>Cozy family craftman house in beautiful neighb...</td>\n",
       "      <td>We are in the beautiful neighborhood of Queen ...</td>\n",
       "      <td>The nearest public transit bus (D Line) is 2 b...</td>\n",
       "      <td>1452570</td>\n",
       "      <td>29/11/2011</td>\n",
       "      <td>within an hour</td>\n",
       "      <td>...</td>\n",
       "      <td>True</td>\n",
       "      <td>False</td>\n",
       "      <td>False</td>\n",
       "      <td>False</td>\n",
       "      <td>True</td>\n",
       "      <td>False</td>\n",
       "      <td>False</td>\n",
       "      <td>False</td>\n",
       "      <td>True</td>\n",
       "      <td>True</td>\n",
       "    </tr>\n",
       "    <tr>\n",
       "      <td>...</td>\n",
       "      <td>...</td>\n",
       "      <td>...</td>\n",
       "      <td>...</td>\n",
       "      <td>...</td>\n",
       "      <td>...</td>\n",
       "      <td>...</td>\n",
       "      <td>...</td>\n",
       "      <td>...</td>\n",
       "      <td>...</td>\n",
       "      <td>...</td>\n",
       "      <td>...</td>\n",
       "      <td>...</td>\n",
       "      <td>...</td>\n",
       "      <td>...</td>\n",
       "      <td>...</td>\n",
       "      <td>...</td>\n",
       "      <td>...</td>\n",
       "      <td>...</td>\n",
       "      <td>...</td>\n",
       "      <td>...</td>\n",
       "      <td>...</td>\n",
       "    </tr>\n",
       "    <tr>\n",
       "      <td>3813</td>\n",
       "      <td>8101950</td>\n",
       "      <td>3BR Mountain View House in Seattle</td>\n",
       "      <td>Our 3BR/2BA house boasts incredible views of t...</td>\n",
       "      <td>Our 3BR/2BA house bright, stylish, and wheelch...</td>\n",
       "      <td>Our 3BR/2BA house boasts incredible views of t...</td>\n",
       "      <td>We're located near lots of family fun. Woodlan...</td>\n",
       "      <td>The apartment is easily accessed from I-5 Nort...</td>\n",
       "      <td>31148752</td>\n",
       "      <td>13/4/2015</td>\n",
       "      <td>within a few hours</td>\n",
       "      <td>...</td>\n",
       "      <td>True</td>\n",
       "      <td>True</td>\n",
       "      <td>False</td>\n",
       "      <td>False</td>\n",
       "      <td>True</td>\n",
       "      <td>False</td>\n",
       "      <td>False</td>\n",
       "      <td>False</td>\n",
       "      <td>True</td>\n",
       "      <td>True</td>\n",
       "    </tr>\n",
       "    <tr>\n",
       "      <td>3814</td>\n",
       "      <td>8902327</td>\n",
       "      <td>Portage Bay View!-One Bedroom Apt</td>\n",
       "      <td>800 square foot 1 bedroom basement apartment w...</td>\n",
       "      <td>This space has a great view of Portage Bay wit...</td>\n",
       "      <td>800 square foot 1 bedroom basement apartment w...</td>\n",
       "      <td>The neighborhood is a quiet oasis that is clos...</td>\n",
       "      <td>Uber and Car2go are good options in Seattle. T...</td>\n",
       "      <td>46566046</td>\n",
       "      <td>14/10/2015</td>\n",
       "      <td>within an hour</td>\n",
       "      <td>...</td>\n",
       "      <td>True</td>\n",
       "      <td>True</td>\n",
       "      <td>False</td>\n",
       "      <td>False</td>\n",
       "      <td>True</td>\n",
       "      <td>False</td>\n",
       "      <td>False</td>\n",
       "      <td>False</td>\n",
       "      <td>True</td>\n",
       "      <td>True</td>\n",
       "    </tr>\n",
       "    <tr>\n",
       "      <td>3815</td>\n",
       "      <td>10267360</td>\n",
       "      <td>Private apartment view of Lake WA</td>\n",
       "      <td>Very comfortable lower unit. Quiet, charming m...</td>\n",
       "      <td>This space has a great view of Portage Bay wit...</td>\n",
       "      <td>Very comfortable lower unit. Quiet, charming m...</td>\n",
       "      <td>The neighborhood is a quiet oasis that is clos...</td>\n",
       "      <td>Uber and Car2go are good options in Seattle. T...</td>\n",
       "      <td>52791370</td>\n",
       "      <td>30/12/2015</td>\n",
       "      <td>within an hour</td>\n",
       "      <td>...</td>\n",
       "      <td>True</td>\n",
       "      <td>True</td>\n",
       "      <td>True</td>\n",
       "      <td>False</td>\n",
       "      <td>True</td>\n",
       "      <td>True</td>\n",
       "      <td>False</td>\n",
       "      <td>False</td>\n",
       "      <td>True</td>\n",
       "      <td>True</td>\n",
       "    </tr>\n",
       "    <tr>\n",
       "      <td>3816</td>\n",
       "      <td>9604740</td>\n",
       "      <td>Amazing View with Modern Comfort!</td>\n",
       "      <td>Cozy studio condo in the heart on Madison Park...</td>\n",
       "      <td>Fully furnished unit to accommodate most needs...</td>\n",
       "      <td>Cozy studio condo in the heart on Madison Park...</td>\n",
       "      <td>Madison Park offers a peaceful slow pace upsca...</td>\n",
       "      <td>Yes</td>\n",
       "      <td>25522052</td>\n",
       "      <td>3/1/2015</td>\n",
       "      <td>within an hour</td>\n",
       "      <td>...</td>\n",
       "      <td>True</td>\n",
       "      <td>True</td>\n",
       "      <td>False</td>\n",
       "      <td>False</td>\n",
       "      <td>True</td>\n",
       "      <td>False</td>\n",
       "      <td>False</td>\n",
       "      <td>False</td>\n",
       "      <td>True</td>\n",
       "      <td>True</td>\n",
       "    </tr>\n",
       "    <tr>\n",
       "      <td>3817</td>\n",
       "      <td>10208623</td>\n",
       "      <td>Large Lakefront Apartment</td>\n",
       "      <td>All hardwood floors, fireplace, 65\" TV with Xb...</td>\n",
       "      <td>Fully furnished unit to accommodate most needs...</td>\n",
       "      <td>All hardwood floors, fireplace, 65\" TV with Xb...</td>\n",
       "      <td>Madison Park offers a peaceful slow pace upsca...</td>\n",
       "      <td>Yes</td>\n",
       "      <td>14703116</td>\n",
       "      <td>25/4/2014</td>\n",
       "      <td>within a day</td>\n",
       "      <td>...</td>\n",
       "      <td>True</td>\n",
       "      <td>True</td>\n",
       "      <td>True</td>\n",
       "      <td>False</td>\n",
       "      <td>True</td>\n",
       "      <td>True</td>\n",
       "      <td>False</td>\n",
       "      <td>False</td>\n",
       "      <td>True</td>\n",
       "      <td>True</td>\n",
       "    </tr>\n",
       "  </tbody>\n",
       "</table>\n",
       "<p>3816 rows × 79 columns</p>\n",
       "</div>"
      ],
      "text/plain": [
       "            id                                 name  \\\n",
       "0       241032         Stylish Queen Anne Apartment   \n",
       "1       953595   Bright & Airy Queen Anne Apartment   \n",
       "2      3308979  New Modern House-Amazing water view   \n",
       "3      7421966                   Queen Anne Chateau   \n",
       "4       278830       Charming craftsman 3 bdm house   \n",
       "...        ...                                  ...   \n",
       "3813   8101950   3BR Mountain View House in Seattle   \n",
       "3814   8902327    Portage Bay View!-One Bedroom Apt   \n",
       "3815  10267360    Private apartment view of Lake WA   \n",
       "3816   9604740    Amazing View with Modern Comfort!   \n",
       "3817  10208623            Large Lakefront Apartment   \n",
       "\n",
       "                                                summary  \\\n",
       "0     Chemically sensitive? We've removed the irrita...   \n",
       "1     Chemically sensitive? We've removed the irrita...   \n",
       "2     New modern house built in 2013.  Spectacular s...   \n",
       "3     A charming apartment that sits atop Queen Anne...   \n",
       "4     Cozy family craftman house in beautiful neighb...   \n",
       "...                                                 ...   \n",
       "3813  Our 3BR/2BA house boasts incredible views of t...   \n",
       "3814  800 square foot 1 bedroom basement apartment w...   \n",
       "3815  Very comfortable lower unit. Quiet, charming m...   \n",
       "3816  Cozy studio condo in the heart on Madison Park...   \n",
       "3817  All hardwood floors, fireplace, 65\" TV with Xb...   \n",
       "\n",
       "                                                  space  \\\n",
       "0     Make your self at home in this charming one-be...   \n",
       "1     Beautiful, hypoallergenic apartment in an extr...   \n",
       "2     Our house is modern, light and fresh with a wa...   \n",
       "3     Our house is modern, light and fresh with a wa...   \n",
       "4     Cozy family craftman house in beautiful neighb...   \n",
       "...                                                 ...   \n",
       "3813  Our 3BR/2BA house bright, stylish, and wheelch...   \n",
       "3814  This space has a great view of Portage Bay wit...   \n",
       "3815  This space has a great view of Portage Bay wit...   \n",
       "3816  Fully furnished unit to accommodate most needs...   \n",
       "3817  Fully furnished unit to accommodate most needs...   \n",
       "\n",
       "                                            description  \\\n",
       "0     Make your self at home in this charming one-be...   \n",
       "1     Chemically sensitive? We've removed the irrita...   \n",
       "2     New modern house built in 2013.  Spectacular s...   \n",
       "3     A charming apartment that sits atop Queen Anne...   \n",
       "4     Cozy family craftman house in beautiful neighb...   \n",
       "...                                                 ...   \n",
       "3813  Our 3BR/2BA house boasts incredible views of t...   \n",
       "3814  800 square foot 1 bedroom basement apartment w...   \n",
       "3815  Very comfortable lower unit. Quiet, charming m...   \n",
       "3816  Cozy studio condo in the heart on Madison Park...   \n",
       "3817  All hardwood floors, fireplace, 65\" TV with Xb...   \n",
       "\n",
       "                                  neighborhood_overview  \\\n",
       "0     Queen Anne is a wonderful, truly functional vi...   \n",
       "1     Queen Anne is a wonderful, truly functional vi...   \n",
       "2     Upper Queen Anne is a charming neighborhood fu...   \n",
       "3     Upper Queen Anne is a charming neighborhood fu...   \n",
       "4     We are in the beautiful neighborhood of Queen ...   \n",
       "...                                                 ...   \n",
       "3813  We're located near lots of family fun. Woodlan...   \n",
       "3814  The neighborhood is a quiet oasis that is clos...   \n",
       "3815  The neighborhood is a quiet oasis that is clos...   \n",
       "3816  Madison Park offers a peaceful slow pace upsca...   \n",
       "3817  Madison Park offers a peaceful slow pace upsca...   \n",
       "\n",
       "                                                transit   host_id  host_since  \\\n",
       "0     Convenient bus stops are just down the block, ...    956883   11/8/2011   \n",
       "1     Convenient bus stops are just down the block, ...   5177328   21/2/2013   \n",
       "2     A bus stop is just 2 blocks away.   Easy bus a...  16708587   12/6/2014   \n",
       "3     A bus stop is just 2 blocks away.   Easy bus a...   9851441   6/11/2013   \n",
       "4     The nearest public transit bus (D Line) is 2 b...   1452570  29/11/2011   \n",
       "...                                                 ...       ...         ...   \n",
       "3813  The apartment is easily accessed from I-5 Nort...  31148752   13/4/2015   \n",
       "3814  Uber and Car2go are good options in Seattle. T...  46566046  14/10/2015   \n",
       "3815  Uber and Car2go are good options in Seattle. T...  52791370  30/12/2015   \n",
       "3816                                                Yes  25522052    3/1/2015   \n",
       "3817                                                Yes  14703116   25/4/2014   \n",
       "\n",
       "      host_response_time  ... Kitchen Laundry Facility Pet Friendly   Pool  \\\n",
       "0     within a few hours  ...    True             True        False  False   \n",
       "1         within an hour  ...    True             True        False  False   \n",
       "2     within a few hours  ...    True             True         True  False   \n",
       "3     within a few hours  ...    True             True        False  False   \n",
       "4         within an hour  ...    True            False        False  False   \n",
       "...                  ...  ...     ...              ...          ...    ...   \n",
       "3813  within a few hours  ...    True             True        False  False   \n",
       "3814      within an hour  ...    True             True        False  False   \n",
       "3815      within an hour  ...    True             True         True  False   \n",
       "3816      within an hour  ...    True             True        False  False   \n",
       "3817        within a day  ...    True             True         True  False   \n",
       "\n",
       "      Safety Features  Security Features Smoking Allowed Suitable for Events  \\\n",
       "0               False              False           False               False   \n",
       "1                True               True           False               False   \n",
       "2                True              False           False               False   \n",
       "3                True               True           False               False   \n",
       "4                True              False           False               False   \n",
       "...               ...                ...             ...                 ...   \n",
       "3813             True              False           False               False   \n",
       "3814             True              False           False               False   \n",
       "3815             True               True           False               False   \n",
       "3816             True              False           False               False   \n",
       "3817             True               True           False               False   \n",
       "\n",
       "         TV Weather Control  \n",
       "0      True            True  \n",
       "1      True            True  \n",
       "2      True            True  \n",
       "3     False            True  \n",
       "4      True            True  \n",
       "...     ...             ...  \n",
       "3813   True            True  \n",
       "3814   True            True  \n",
       "3815   True            True  \n",
       "3816   True            True  \n",
       "3817   True            True  \n",
       "\n",
       "[3816 rows x 79 columns]"
      ]
     },
     "execution_count": 30,
     "metadata": {},
     "output_type": "execute_result"
    }
   ],
   "source": [
    "listing_new=listings.drop([1933,1942])\n",
    "listing_new\n",
    "\n",
    "\n",
    "\n"
   ]
  },
  {
   "cell_type": "code",
   "execution_count": 31,
   "metadata": {},
   "outputs": [
    {
     "name": "stdout",
     "output_type": "stream",
     "text": [
      "Number of neighbourhood_group_cleansed : 17\n",
      "Other neighborhoods    794\n",
      "Capitol Hill           567\n",
      "Downtown               530\n",
      "Central Area           369\n",
      "Queen Anne             295\n",
      "Ballard                230\n",
      "West Seattle           203\n",
      "Rainier Valley         159\n",
      "University District    122\n",
      "Beacon Hill            116\n",
      "Cascade                 89\n",
      "Northgate               80\n",
      "Delridge                79\n",
      "Lake City               67\n",
      "Magnolia                61\n",
      "Seward Park             44\n",
      "Interbay                11\n",
      "Name: neighbourhood_group_cleansed, dtype: int64\n"
     ]
    },
    {
     "data": {
      "text/plain": [
       "<seaborn.axisgrid.FacetGrid at 0x1e364e8f708>"
      ]
     },
     "execution_count": 31,
     "metadata": {},
     "output_type": "execute_result"
    },
    {
     "data": {
      "image/png": "[encoded data removed]",
      "text/plain": [
       "<Figure size 360x360 with 1 Axes>"
      ]
     },
     "metadata": {
      "needs_background": "light"
     },
     "output_type": "display_data"
    }
   ],
   "source": [
    "\n",
    "#print the unique values for neighbourhood_group_cleansed\n",
    "print(\"Number of neighbourhood_group_cleansed :\", len(listing_new[\"neighbourhood_group_cleansed\"].unique()))\n",
    "\n",
    "# neighbourhood_group_cleansed plot\n",
    "print(listing_new[\"neighbourhood_group_cleansed\"].value_counts())\n",
    "sb.catplot(y = \"neighbourhood_group_cleansed\", data = listings, kind = \"count\")\n"
   ]
  },
  {
   "cell_type": "code",
   "execution_count": null,
   "metadata": {},
   "outputs": [],
   "source": [
    "# group data by their neighbourhood_group_cleansed attributes."
   ]
  },
  {
   "cell_type": "code",
   "execution_count": 36,
   "metadata": {},
   "outputs": [
    {
     "data": {
      "text/plain": [
       "count    567.000000\n",
       "mean     130.592593\n",
       "std       92.442331\n",
       "min       22.000000\n",
       "25%       80.000000\n",
       "50%      105.000000\n",
       "75%      150.000000\n",
       "max      750.000000\n",
       "Name: price, dtype: float64"
      ]
     },
     "execution_count": 36,
     "metadata": {},
     "output_type": "execute_result"
    }
   ],
   "source": [
    "Capitol_Hill=[]\n",
    "for row in  listing_new.itertuples():\n",
    "   if row.neighbourhood_group_cleansed=='Capitol Hill':\n",
    "        Capitol_Hill.append(row)\n",
    "Capitol_Hill=pd.DataFrame(Capitol_Hill, columns=row._fields)\n",
    "Capitol_Hill.price.describe()\n"
   ]
  },
  {
   "cell_type": "code",
   "execution_count": 35,
   "metadata": {},
   "outputs": [
    {
     "data": {
      "text/plain": [
       "count     794.000000\n",
       "mean      119.968514\n",
       "std        86.580450\n",
       "min        25.000000\n",
       "25%        66.000000\n",
       "50%        99.000000\n",
       "75%       145.000000\n",
       "max      1000.000000\n",
       "Name: price, dtype: float64"
      ]
     },
     "execution_count": 35,
     "metadata": {},
     "output_type": "execute_result"
    }
   ],
   "source": [
    "Other_neighborhoods =[]\n",
    "for row in  listing_new.itertuples():\n",
    "   if row.neighbourhood_group_cleansed=='Other neighborhoods':\n",
    "        Other_neighborhoods.append(row)\n",
    "Other_neighborhoods=pd.DataFrame(Other_neighborhoods, columns=row._fields)\n",
    "Other_neighborhoods.price.describe()"
   ]
  },
  {
   "cell_type": "code",
   "execution_count": 37,
   "metadata": {},
   "outputs": [
    {
     "data": {
      "text/plain": [
       "count    530.00000\n",
       "mean     154.40566\n",
       "std       90.90280\n",
       "min       35.00000\n",
       "25%      105.00000\n",
       "50%      139.00000\n",
       "75%      175.00000\n",
       "max      999.00000\n",
       "Name: price, dtype: float64"
      ]
     },
     "execution_count": 37,
     "metadata": {},
     "output_type": "execute_result"
    }
   ],
   "source": [
    "Downtown=[]\n",
    "for row in  listing_new.itertuples():\n",
    "   if row.neighbourhood_group_cleansed=='Downtown':\n",
    "        Downtown.append(row)\n",
    "Downtown=pd.DataFrame(Downtown, columns=row._fields)\n",
    "Downtown.price.describe()"
   ]
  },
  {
   "cell_type": "code",
   "execution_count": 38,
   "metadata": {},
   "outputs": [
    {
     "data": {
      "text/plain": [
       "count    369.000000\n",
       "mean     128.338753\n",
       "std       80.260558\n",
       "min       35.000000\n",
       "25%       75.000000\n",
       "50%      100.000000\n",
       "75%      155.000000\n",
       "max      500.000000\n",
       "Name: price, dtype: float64"
      ]
     },
     "execution_count": 38,
     "metadata": {},
     "output_type": "execute_result"
    }
   ],
   "source": [
    "Central_Area =[]\n",
    "for row in  listing_new.itertuples():\n",
    "   if row.neighbourhood_group_cleansed=='Central Area':\n",
    "        Central_Area.append(row)\n",
    "Central_Area=pd.DataFrame(Central_Area, columns=row._fields)\n",
    "Central_Area.price.describe()"
   ]
  },
  {
   "cell_type": "code",
   "execution_count": 39,
   "metadata": {},
   "outputs": [
    {
     "data": {
      "text/plain": [
       "count    295.000000\n",
       "mean     157.223729\n",
       "std      115.863385\n",
       "min       20.000000\n",
       "25%       95.000000\n",
       "50%      119.000000\n",
       "75%      175.000000\n",
       "max      975.000000\n",
       "Name: price, dtype: float64"
      ]
     },
     "execution_count": 39,
     "metadata": {},
     "output_type": "execute_result"
    }
   ],
   "source": [
    "Queen_Anne=[]\n",
    "for row in  listing_new.itertuples():\n",
    "   if row.neighbourhood_group_cleansed=='Queen Anne':\n",
    "        Queen_Anne.append(row)\n",
    "Queen_Anne=pd.DataFrame(Queen_Anne, columns=row._fields)\n",
    "Queen_Anne.price.describe()"
   ]
  },
  {
   "cell_type": "code",
   "execution_count": 41,
   "metadata": {},
   "outputs": [
    {
     "data": {
      "text/plain": [
       "count    230.000000\n",
       "mean     124.682609\n",
       "std       87.925033\n",
       "min       25.000000\n",
       "25%       70.000000\n",
       "50%       95.000000\n",
       "75%      149.000000\n",
       "max      475.000000\n",
       "Name: price, dtype: float64"
      ]
     },
     "execution_count": 41,
     "metadata": {},
     "output_type": "execute_result"
    }
   ],
   "source": [
    "Ballard =[]\n",
    "for row in  listing_new.itertuples():\n",
    "   if row.neighbourhood_group_cleansed=='Ballard':\n",
    "        Ballard.append(row)\n",
    "Ballard=pd.DataFrame(Ballard, columns=row._fields)\n",
    "Ballard.price.describe()"
   ]
  },
  {
   "cell_type": "code",
   "execution_count": 42,
   "metadata": {},
   "outputs": [
    {
     "data": {
      "text/plain": [
       "count    203.000000\n",
       "mean     141.359606\n",
       "std       89.147801\n",
       "min       30.000000\n",
       "25%       79.000000\n",
       "50%      109.000000\n",
       "75%      195.000000\n",
       "max      495.000000\n",
       "Name: price, dtype: float64"
      ]
     },
     "execution_count": 42,
     "metadata": {},
     "output_type": "execute_result"
    }
   ],
   "source": [
    "West_Seattle =[]\n",
    "for row in  listing_new.itertuples():\n",
    "   if row.neighbourhood_group_cleansed=='West Seattle':\n",
    "        West_Seattle.append(row)\n",
    "West_Seattle=pd.DataFrame(West_Seattle, columns=row._fields)\n",
    "West_Seattle.price.describe()"
   ]
  },
  {
   "cell_type": "code",
   "execution_count": 43,
   "metadata": {},
   "outputs": [
    {
     "data": {
      "text/plain": [
       "count    159.000000\n",
       "mean      91.899371\n",
       "std       52.505599\n",
       "min       25.000000\n",
       "25%       58.500000\n",
       "50%       80.000000\n",
       "75%      105.000000\n",
       "max      300.000000\n",
       "Name: price, dtype: float64"
      ]
     },
     "execution_count": 43,
     "metadata": {},
     "output_type": "execute_result"
    }
   ],
   "source": [
    "Rainier_Valley =[]\n",
    "for row in  listing_new.itertuples():\n",
    "   if row.neighbourhood_group_cleansed=='Rainier Valley':\n",
    "        Rainier_Valley.append(row)\n",
    "Rainier_Valley=pd.DataFrame(Rainier_Valley, columns=row._fields)\n",
    "Rainier_Valley.price.describe()"
   ]
  },
  {
   "cell_type": "code",
   "execution_count": 44,
   "metadata": {},
   "outputs": [
    {
     "data": {
      "text/plain": [
       "count    122.000000\n",
       "mean      93.639344\n",
       "std       59.721816\n",
       "min       28.000000\n",
       "25%       53.500000\n",
       "50%       85.000000\n",
       "75%      105.000000\n",
       "max      350.000000\n",
       "Name: price, dtype: float64"
      ]
     },
     "execution_count": 44,
     "metadata": {},
     "output_type": "execute_result"
    }
   ],
   "source": [
    "University_District =[]\n",
    "for row in  listing_new.itertuples():\n",
    "   if row.neighbourhood_group_cleansed=='University District':\n",
    "        University_District.append(row)\n",
    "University_District=pd.DataFrame(University_District, columns=row._fields)\n",
    "University_District.price.describe()"
   ]
  },
  {
   "cell_type": "code",
   "execution_count": 46,
   "metadata": {},
   "outputs": [
    {
     "data": {
      "text/plain": [
       "count    116.000000\n",
       "mean      95.353448\n",
       "std       61.836707\n",
       "min       30.000000\n",
       "25%       60.000000\n",
       "50%       77.000000\n",
       "75%      108.250000\n",
       "max      399.000000\n",
       "Name: price, dtype: float64"
      ]
     },
     "execution_count": 46,
     "metadata": {},
     "output_type": "execute_result"
    }
   ],
   "source": [
    "Beacon_Hill =[]\n",
    "for row in  listing_new.itertuples():\n",
    "   if row.neighbourhood_group_cleansed=='Beacon Hill':\n",
    "        Beacon_Hill.append(row)\n",
    "Beacon_Hill=pd.DataFrame(Beacon_Hill, columns=row._fields)\n",
    "Beacon_Hill.price.describe()"
   ]
  },
  {
   "cell_type": "code",
   "execution_count": 47,
   "metadata": {},
   "outputs": [
    {
     "data": {
      "text/plain": [
       "count     89.000000\n",
       "mean     140.101124\n",
       "std      112.179042\n",
       "min       42.000000\n",
       "25%       88.000000\n",
       "50%      115.000000\n",
       "75%      141.000000\n",
       "max      775.000000\n",
       "Name: price, dtype: float64"
      ]
     },
     "execution_count": 47,
     "metadata": {},
     "output_type": "execute_result"
    }
   ],
   "source": [
    "Cascade =[]\n",
    "for row in  listing_new.itertuples():\n",
    "   if row.neighbourhood_group_cleansed=='Cascade':\n",
    "        Cascade.append(row)\n",
    "Cascade=pd.DataFrame(Cascade, columns=row._fields)\n",
    "Cascade.price.describe()"
   ]
  },
  {
   "cell_type": "code",
   "execution_count": 48,
   "metadata": {},
   "outputs": [
    {
     "data": {
      "text/plain": [
       "count     80.00000\n",
       "mean      88.55000\n",
       "std       38.64211\n",
       "min       30.00000\n",
       "25%       59.00000\n",
       "50%       79.50000\n",
       "75%      108.25000\n",
       "max      200.00000\n",
       "Name: price, dtype: float64"
      ]
     },
     "execution_count": 48,
     "metadata": {},
     "output_type": "execute_result"
    }
   ],
   "source": [
    "Northgate =[]\n",
    "for row in  listing_new.itertuples():\n",
    "   if row.neighbourhood_group_cleansed=='Northgate':\n",
    "        Northgate.append(row)\n",
    "Northgate=pd.DataFrame(Northgate, columns=row._fields)\n",
    "Northgate.price.describe()"
   ]
  },
  {
   "cell_type": "code",
   "execution_count": 49,
   "metadata": {},
   "outputs": [
    {
     "data": {
      "text/plain": [
       "count     79.000000\n",
       "mean      83.278481\n",
       "std       41.797110\n",
       "min       35.000000\n",
       "25%       55.000000\n",
       "50%       72.000000\n",
       "75%       98.000000\n",
       "max      300.000000\n",
       "Name: price, dtype: float64"
      ]
     },
     "execution_count": 49,
     "metadata": {},
     "output_type": "execute_result"
    }
   ],
   "source": [
    "Delridge =[]\n",
    "for row in  listing_new.itertuples():\n",
    "   if row.neighbourhood_group_cleansed=='Delridge':\n",
    "        Delridge.append(row)\n",
    "Delridge=pd.DataFrame(Delridge, columns=row._fields)\n",
    "Delridge.price.describe()"
   ]
  },
  {
   "cell_type": "code",
   "execution_count": 50,
   "metadata": {},
   "outputs": [
    {
     "data": {
      "text/plain": [
       "count     67.000000\n",
       "mean      92.671642\n",
       "std       57.212625\n",
       "min       35.000000\n",
       "25%       55.000000\n",
       "50%       70.000000\n",
       "75%      108.000000\n",
       "max      252.000000\n",
       "Name: price, dtype: float64"
      ]
     },
     "execution_count": 50,
     "metadata": {},
     "output_type": "execute_result"
    }
   ],
   "source": [
    "Lake_City =[]\n",
    "for row in  listing_new.itertuples():\n",
    "   if row.neighbourhood_group_cleansed=='Lake City':\n",
    "        Lake_City.append(row)\n",
    "Lake_City=pd.DataFrame(Lake_City, columns=row._fields)\n",
    "Lake_City.price.describe()"
   ]
  },
  {
   "cell_type": "code",
   "execution_count": 51,
   "metadata": {},
   "outputs": [
    {
     "data": {
      "text/plain": [
       "count     61.000000\n",
       "mean     177.672131\n",
       "std      150.078726\n",
       "min       30.000000\n",
       "25%       78.000000\n",
       "50%      129.000000\n",
       "75%      225.000000\n",
       "max      950.000000\n",
       "Name: price, dtype: float64"
      ]
     },
     "execution_count": 51,
     "metadata": {},
     "output_type": "execute_result"
    }
   ],
   "source": [
    "Magnolia =[]\n",
    "for row in  listing_new.itertuples():\n",
    "   if row.neighbourhood_group_cleansed=='Magnolia':\n",
    "        Magnolia.append(row)\n",
    "Magnolia=pd.DataFrame(Magnolia, columns=row._fields)\n",
    "Magnolia.price.describe()"
   ]
  },
  {
   "cell_type": "code",
   "execution_count": 52,
   "metadata": {},
   "outputs": [
    {
     "data": {
      "text/plain": [
       "count     44.000000\n",
       "mean     108.477273\n",
       "std       71.718276\n",
       "min       34.000000\n",
       "25%       65.000000\n",
       "50%       93.000000\n",
       "75%      118.000000\n",
       "max      375.000000\n",
       "Name: price, dtype: float64"
      ]
     },
     "execution_count": 52,
     "metadata": {},
     "output_type": "execute_result"
    }
   ],
   "source": [
    "Seward_Park =[]\n",
    "for row in  listing_new.itertuples():\n",
    "   if row.neighbourhood_group_cleansed=='Seward Park':\n",
    "        Seward_Park.append(row)\n",
    "Seward_Park=pd.DataFrame(Seward_Park, columns=row._fields)\n",
    "Seward_Park.price.describe()"
   ]
  },
  {
   "cell_type": "code",
   "execution_count": 53,
   "metadata": {},
   "outputs": [
    {
     "data": {
      "text/plain": [
       "count     11.000000\n",
       "mean     109.727273\n",
       "std       60.003485\n",
       "min       50.000000\n",
       "25%       72.000000\n",
       "50%       90.000000\n",
       "75%      150.000000\n",
       "max      250.000000\n",
       "Name: price, dtype: float64"
      ]
     },
     "execution_count": 53,
     "metadata": {},
     "output_type": "execute_result"
    }
   ],
   "source": [
    "Interbay =[]\n",
    "for row in  listing_new.itertuples():\n",
    "   if row.neighbourhood_group_cleansed=='Interbay':\n",
    "        Interbay.append(row)\n",
    "Interbay=pd.DataFrame(Interbay, columns=row._fields)\n",
    "Interbay.price.describe()"
   ]
  },
  {
   "cell_type": "code",
   "execution_count": 66,
   "metadata": {},
   "outputs": [],
   "source": [
    "# create an array of dataframes\n",
    "cities=[Other_neighborhoods,Capitol_Hill,Downtown,Central_Area,Queen_Anne,Ballard,West_Seattle,Rainier_Valley,University_District,Beacon_Hill,Cascade,Northgate,Delridge,Lake_City,Magnolia, Seward_Park, Interbay]"
   ]
  },
  {
   "cell_type": "code",
   "execution_count": 61,
   "metadata": {},
   "outputs": [],
   "source": [
    "# We can divide cities based on the mean value  \n",
    "#mean of price >150-----Tier_1\n",
    "#100<mean of price <150-----Tier_2\n",
    "#mean of price <100-----Tier_3"
   ]
  },
  {
   "cell_type": "code",
   "execution_count": 111,
   "metadata": {},
   "outputs": [
    {
     "name": "stdout",
     "output_type": "stream",
     "text": [
      "<class 'pandas.core.frame.DataFrame'>\n",
      "Int64Index: 886 entries, 0 to 60\n",
      "Data columns (total 80 columns):\n",
      "Index                               886 non-null object\n",
      "id                                  886 non-null object\n",
      "name                                886 non-null object\n",
      "summary                             886 non-null object\n",
      "space                               886 non-null object\n",
      "description                         886 non-null object\n",
      "neighborhood_overview               886 non-null object\n",
      "transit                             886 non-null object\n",
      "host_id                             886 non-null object\n",
      "host_since                          886 non-null object\n",
      "host_response_time                  886 non-null object\n",
      "host_response_rate                  886 non-null object\n",
      "host_acceptance_rate                886 non-null object\n",
      "host_is_superhost                   886 non-null object\n",
      "host_neighbourhood                  886 non-null object\n",
      "host_listings_count                 886 non-null float64\n",
      "host_total_listings_count           886 non-null float64\n",
      "host_verifications                  886 non-null object\n",
      "host_identity_verified              886 non-null object\n",
      "street                              886 non-null object\n",
      "neighbourhood                       886 non-null object\n",
      "neighbourhood_cleansed              886 non-null object\n",
      "neighbourhood_group_cleansed        886 non-null object\n",
      "zipcode                             886 non-null object\n",
      "is_location_exact                   886 non-null object\n",
      "property_type                       886 non-null object\n",
      "room_type                           886 non-null object\n",
      "accommodates                        886 non-null object\n",
      "bathrooms                           886 non-null float64\n",
      "bedrooms                            886 non-null float64\n",
      "beds                                886 non-null float64\n",
      "bed_type                            886 non-null object\n",
      "amenities                           876 non-null object\n",
      "price                               886 non-null float64\n",
      "cleaning_fee                        886 non-null float64\n",
      "guests_included                     886 non-null object\n",
      "extra_people                        886 non-null float64\n",
      "minimum_nights                      886 non-null object\n",
      "maximum_nights                      886 non-null object\n",
      "calendar_updated                    886 non-null object\n",
      "has_availability                    886 non-null object\n",
      "availability_30                     886 non-null object\n",
      "availability_60                     886 non-null object\n",
      "availability_90                     886 non-null object\n",
      "availability_365                    886 non-null object\n",
      "number_of_reviews                   886 non-null object\n",
      "first_review                        886 non-null object\n",
      "last_review                         886 non-null object\n",
      "review_scores_rating                886 non-null float64\n",
      "review_scores_accuracy              886 non-null float64\n",
      "review_scores_cleanliness           886 non-null float64\n",
      "review_scores_checkin               886 non-null float64\n",
      "review_scores_communication         886 non-null float64\n",
      "review_scores_location              886 non-null float64\n",
      "review_scores_value                 886 non-null float64\n",
      "instant_bookable                    886 non-null object\n",
      "cancellation_policy                 886 non-null object\n",
      "require_guest_profile_picture       886 non-null object\n",
      "require_guest_phone_verification    886 non-null object\n",
      "calculated_host_listings_count      886 non-null object\n",
      "reviews_per_month                   886 non-null float64\n",
      "_61                                 886 non-null object\n",
      "_62                                 886 non-null object\n",
      "Breakfast                           886 non-null object\n",
      "Essentials                          886 non-null object\n",
      "_65                                 886 non-null object\n",
      "_66                                 886 non-null object\n",
      "Gym                                 886 non-null object\n",
      "_68                                 886 non-null object\n",
      "Internet                            886 non-null object\n",
      "Kitchen                             886 non-null object\n",
      "_71                                 886 non-null object\n",
      "_72                                 886 non-null object\n",
      "Pool                                886 non-null object\n",
      "_74                                 886 non-null object\n",
      "_75                                 886 non-null object\n",
      "_76                                 886 non-null object\n",
      "_77                                 886 non-null object\n",
      "TV                                  886 non-null object\n",
      "_79                                 886 non-null object\n",
      "dtypes: float64(16), object(64)\n",
      "memory usage: 560.7+ KB\n",
      "<class 'pandas.core.frame.DataFrame'>\n",
      "Int64Index: 2307 entries, 0 to 10\n",
      "Data columns (total 80 columns):\n",
      "Index                               2307 non-null object\n",
      "id                                  2307 non-null object\n",
      "name                                2307 non-null object\n",
      "summary                             2307 non-null object\n",
      "space                               2307 non-null object\n",
      "description                         2307 non-null object\n",
      "neighborhood_overview               2307 non-null object\n",
      "transit                             2307 non-null object\n",
      "host_id                             2307 non-null object\n",
      "host_since                          2307 non-null object\n",
      "host_response_time                  2307 non-null object\n",
      "host_response_rate                  2307 non-null object\n",
      "host_acceptance_rate                2307 non-null object\n",
      "host_is_superhost                   2307 non-null object\n",
      "host_neighbourhood                  2307 non-null object\n",
      "host_listings_count                 2307 non-null float64\n",
      "host_total_listings_count           2307 non-null float64\n",
      "host_verifications                  2307 non-null object\n",
      "host_identity_verified              2307 non-null object\n",
      "street                              2307 non-null object\n",
      "neighbourhood                       2307 non-null object\n",
      "neighbourhood_cleansed              2307 non-null object\n",
      "neighbourhood_group_cleansed        2307 non-null object\n",
      "zipcode                             2307 non-null object\n",
      "is_location_exact                   2307 non-null object\n",
      "property_type                       2307 non-null object\n",
      "room_type                           2307 non-null object\n",
      "accommodates                        2307 non-null object\n",
      "bathrooms                           2307 non-null float64\n",
      "bedrooms                            2307 non-null float64\n",
      "beds                                2307 non-null float64\n",
      "bed_type                            2307 non-null object\n",
      "amenities                           2279 non-null object\n",
      "price                               2307 non-null float64\n",
      "cleaning_fee                        2307 non-null float64\n",
      "guests_included                     2307 non-null object\n",
      "extra_people                        2307 non-null float64\n",
      "minimum_nights                      2307 non-null object\n",
      "maximum_nights                      2307 non-null object\n",
      "calendar_updated                    2307 non-null object\n",
      "has_availability                    2307 non-null object\n",
      "availability_30                     2307 non-null object\n",
      "availability_60                     2307 non-null object\n",
      "availability_90                     2307 non-null object\n",
      "availability_365                    2307 non-null object\n",
      "number_of_reviews                   2307 non-null object\n",
      "first_review                        2307 non-null object\n",
      "last_review                         2307 non-null object\n",
      "review_scores_rating                2307 non-null float64\n",
      "review_scores_accuracy              2307 non-null float64\n",
      "review_scores_cleanliness           2307 non-null float64\n",
      "review_scores_checkin               2307 non-null float64\n",
      "review_scores_communication         2307 non-null float64\n",
      "review_scores_location              2307 non-null float64\n",
      "review_scores_value                 2307 non-null float64\n",
      "instant_bookable                    2307 non-null object\n",
      "cancellation_policy                 2307 non-null object\n",
      "require_guest_profile_picture       2307 non-null object\n",
      "require_guest_phone_verification    2307 non-null object\n",
      "calculated_host_listings_count      2307 non-null object\n",
      "reviews_per_month                   2307 non-null float64\n",
      "_61                                 2307 non-null object\n",
      "_62                                 2307 non-null object\n",
      "Breakfast                           2307 non-null object\n",
      "Essentials                          2307 non-null object\n",
      "_65                                 2307 non-null object\n",
      "_66                                 2307 non-null object\n",
      "Gym                                 2307 non-null object\n",
      "_68                                 2307 non-null object\n",
      "Internet                            2307 non-null object\n",
      "Kitchen                             2307 non-null object\n",
      "_71                                 2307 non-null object\n",
      "_72                                 2307 non-null object\n",
      "Pool                                2307 non-null object\n",
      "_74                                 2307 non-null object\n",
      "_75                                 2307 non-null object\n",
      "_76                                 2307 non-null object\n",
      "_77                                 2307 non-null object\n",
      "TV                                  2307 non-null object\n",
      "_79                                 2307 non-null object\n",
      "dtypes: float64(16), object(64)\n",
      "memory usage: 1.4+ MB\n",
      "<class 'pandas.core.frame.DataFrame'>\n",
      "Int64Index: 623 entries, 0 to 66\n",
      "Data columns (total 80 columns):\n",
      "Index                               623 non-null object\n",
      "id                                  623 non-null object\n",
      "name                                623 non-null object\n",
      "summary                             623 non-null object\n",
      "space                               623 non-null object\n",
      "description                         623 non-null object\n",
      "neighborhood_overview               623 non-null object\n",
      "transit                             623 non-null object\n",
      "host_id                             623 non-null object\n",
      "host_since                          623 non-null object\n",
      "host_response_time                  623 non-null object\n",
      "host_response_rate                  623 non-null object\n",
      "host_acceptance_rate                623 non-null object\n",
      "host_is_superhost                   623 non-null object\n",
      "host_neighbourhood                  623 non-null object\n",
      "host_listings_count                 623 non-null float64\n",
      "host_total_listings_count           623 non-null float64\n",
      "host_verifications                  623 non-null object\n",
      "host_identity_verified              623 non-null object\n",
      "street                              623 non-null object\n",
      "neighbourhood                       623 non-null object\n",
      "neighbourhood_cleansed              623 non-null object\n",
      "neighbourhood_group_cleansed        623 non-null object\n",
      "zipcode                             623 non-null object\n",
      "is_location_exact                   623 non-null object\n",
      "property_type                       623 non-null object\n",
      "room_type                           623 non-null object\n",
      "accommodates                        623 non-null object\n",
      "bathrooms                           623 non-null float64\n",
      "bedrooms                            623 non-null float64\n",
      "beds                                623 non-null float64\n",
      "bed_type                            623 non-null object\n",
      "amenities                           616 non-null object\n",
      "price                               623 non-null float64\n",
      "cleaning_fee                        623 non-null float64\n",
      "guests_included                     623 non-null object\n",
      "extra_people                        623 non-null float64\n",
      "minimum_nights                      623 non-null object\n",
      "maximum_nights                      623 non-null object\n",
      "calendar_updated                    623 non-null object\n",
      "has_availability                    623 non-null object\n",
      "availability_30                     623 non-null object\n",
      "availability_60                     623 non-null object\n",
      "availability_90                     623 non-null object\n",
      "availability_365                    623 non-null object\n",
      "number_of_reviews                   623 non-null object\n",
      "first_review                        623 non-null object\n",
      "last_review                         623 non-null object\n",
      "review_scores_rating                623 non-null float64\n",
      "review_scores_accuracy              623 non-null float64\n",
      "review_scores_cleanliness           623 non-null float64\n",
      "review_scores_checkin               623 non-null float64\n",
      "review_scores_communication         623 non-null float64\n",
      "review_scores_location              623 non-null float64\n",
      "review_scores_value                 623 non-null float64\n",
      "instant_bookable                    623 non-null object\n",
      "cancellation_policy                 623 non-null object\n",
      "require_guest_profile_picture       623 non-null object\n",
      "require_guest_phone_verification    623 non-null object\n",
      "calculated_host_listings_count      623 non-null object\n",
      "reviews_per_month                   623 non-null float64\n",
      "_61                                 623 non-null object\n",
      "_62                                 623 non-null object\n",
      "Breakfast                           623 non-null object\n",
      "Essentials                          623 non-null object\n",
      "_65                                 623 non-null object\n",
      "_66                                 623 non-null object\n",
      "Gym                                 623 non-null object\n",
      "_68                                 623 non-null object\n",
      "Internet                            623 non-null object\n",
      "Kitchen                             623 non-null object\n",
      "_71                                 623 non-null object\n",
      "_72                                 623 non-null object\n",
      "Pool                                623 non-null object\n",
      "_74                                 623 non-null object\n",
      "_75                                 623 non-null object\n",
      "_76                                 623 non-null object\n",
      "_77                                 623 non-null object\n",
      "TV                                  623 non-null object\n",
      "_79                                 623 non-null object\n",
      "dtypes: float64(16), object(64)\n",
      "memory usage: 394.2+ KB\n"
     ]
    },
    {
     "data": {
      "text/plain": [
       "count    623.000000\n",
       "mean      91.443018\n",
       "std       53.579039\n",
       "min       25.000000\n",
       "25%       58.000000\n",
       "50%       79.000000\n",
       "75%      105.000000\n",
       "max      399.000000\n",
       "Name: price, dtype: float64"
      ]
     },
     "execution_count": 111,
     "metadata": {},
     "output_type": "execute_result"
    }
   ],
   "source": [
    "#Create 3 empty dataframes\n",
    "Tier_1=pd.DataFrame(columns=row._fields)\n",
    "Tier_2=pd.DataFrame(columns=row._fields)\n",
    "Tier_3=pd.DataFrame(columns=row._fields)\n",
    "#group different cities according to the mean value of price.\n",
    "for i in cities:\n",
    "    #print(i)\n",
    "    if(i.price.mean()>150):\n",
    "        Tier_1=Tier_1.append(i)\n",
    "    if(i.price.mean()<150 and i.price.mean()>100):\n",
    "        Tier_2= Tier_2.append(i)\n",
    "    if(i.price.mean()<100):\n",
    "        Tier_3=Tier_3.append(i)\n",
    "# For checking\n",
    "\n",
    "Tier_1.price.describe()\n",
    "Tier_2.price.describe()\n",
    "Tier_3.price.describe()\n"
   ]
  },
  {
   "cell_type": "code",
   "execution_count": 112,
   "metadata": {},
   "outputs": [],
   "source": [
    "#produce new csv files.\n",
    "Tier_1.to_csv('..\\dataset_filter\\Tier_1.csv',index=False)\n",
    "Tier_2.to_csv('..\\dataset_filter\\Tier_2.csv',index=False)\n",
    "Tier_3.to_csv('..\\dataset_filter\\Tier_3.csv',index=False)"
   ]
  },
  {
   "cell_type": "code",
   "execution_count": 33,
   "metadata": {
    "scrolled": true
   },
   "outputs": [
    {
     "name": "stdout",
     "output_type": "stream",
     "text": [
      "<class 'pandas.core.frame.DataFrame'>\n",
      "(361, 80)\n",
      "<class 'pandas.core.frame.DataFrame'>\n",
      "(319, 80)\n",
      "<class 'pandas.core.frame.DataFrame'>\n",
      "(936, 80)\n",
      "<class 'pandas.core.frame.DataFrame'>\n",
      "(122, 80)\n",
      "<class 'pandas.core.frame.DataFrame'>\n",
      "(147, 80)\n",
      "<class 'pandas.core.frame.DataFrame'>\n",
      "(230, 80)\n",
      "<class 'pandas.core.frame.DataFrame'>\n",
      "(986, 80)\n",
      "<class 'pandas.core.frame.DataFrame'>\n",
      "(794, 80)\n"
     ]
    }
   ],
   "source": [
    "# We found that there are 7 districts in Seattle, so we put different neighbourhoods into different districts.\n",
    "District_1=[]\n",
    "District_2=[]\n",
    "District_3=[]\n",
    "District_4=[]\n",
    "District_5=[]\n",
    "District_6=[]\n",
    "District_7=[]\n",
    "Other_neighborhoods=[]\n",
    "for row in  listing_new.itertuples():\n",
    "   if row.neighbourhood_group_cleansed=='Delridge':\n",
    "        District_1.append(row)\n",
    "for row in  listing_new.itertuples():\n",
    "   if row.neighbourhood_group_cleansed=='Capitol Hill':\n",
    "        District_3.append(row)\n",
    "\n",
    "for row in  listing_new.itertuples():\n",
    "   if row.neighbourhood_group_cleansed=='Downtown':\n",
    "        District_7.append(row)       \n",
    "for row in  listing_new.itertuples():\n",
    "   if row.neighbourhood_group_cleansed=='Central Area' :\n",
    "        District_3.append(row)\n",
    "for row in  listing_new.itertuples():\n",
    "   if row.neighbourhood_group_cleansed=='Queen Anne':\n",
    "        District_7.append(row)\n",
    "for row in  listing_new.itertuples():\n",
    "   if row.neighbourhood_group_cleansed=='Ballard':\n",
    "        District_6.append(row)\n",
    "for row in  listing_new.itertuples():\n",
    "   if row.neighbourhood_group_cleansed=='West Seattle':\n",
    "        District_1.append(row)\n",
    "for row in  listing_new.itertuples():\n",
    "   if row.neighbourhood_group_cleansed=='Rainier Valley':\n",
    "        District_2.append(row)\n",
    "for row in  listing_new.itertuples():\n",
    "   if row.neighbourhood_group_cleansed=='University District':\n",
    "        District_4.append(row)\n",
    "for row in  listing_new.itertuples():\n",
    "   if row.neighbourhood_group_cleansed=='Beacon Hill':\n",
    "        District_2.append(row)\n",
    "for row in  listing_new.itertuples():\n",
    "   if row.neighbourhood_group_cleansed=='Cascade':\n",
    "        District_7.append(row)\n",
    "for row in  listing_new.itertuples():\n",
    "   if row.neighbourhood_group_cleansed=='Northgate':\n",
    "        District_5.append(row)\n",
    "for row in  listing_new.itertuples():\n",
    "   if row.neighbourhood_group_cleansed=='Delridge':\n",
    "        District_1.append(row)\n",
    "for row in  listing_new.itertuples():\n",
    "   if row.neighbourhood_group_cleansed=='Lake City':\n",
    "        District_5.append(row)\n",
    "for row in  listing_new.itertuples():\n",
    "   if row.neighbourhood_group_cleansed=='Magnolia':\n",
    "        District_7.append(row)\n",
    "for row in  listing_new.itertuples():\n",
    "   if row.neighbourhood_group_cleansed=='Seward Park':\n",
    "        District_2.append(row)\n",
    "for row in  listing_new.itertuples():\n",
    "   if row.neighbourhood_group_cleansed=='Interbay':\n",
    "        District_7.append(row)\n",
    "for row in  listing_new.itertuples():\n",
    "   if row.neighbourhood_group_cleansed=='North Beacon Hill':\n",
    "        District_3.append(row)\n",
    "for row in  listing_new.itertuples():\n",
    "   if row.neighbourhood_group_cleansed=='S Morgan St, Seattle, WA 98108, United States':\n",
    "        Other_neighborhoods.append(row)\n",
    "for row in  listing_new.itertuples():\n",
    "   if row.neighbourhood_group_cleansed=='Other neighborhoods':\n",
    "        Other_neighborhoods.append(row)\n",
    "#convert tuples to corresponding dataframes.       \n",
    "\n",
    "District_1 = pd.DataFrame(District_1, columns=row._fields)\n",
    "District_2 = pd.DataFrame(District_2, columns=row._fields)\n",
    "District_3 = pd.DataFrame(District_3, columns=row._fields)\n",
    "District_4 = pd.DataFrame(District_4, columns=row._fields)\n",
    "District_5 = pd.DataFrame(District_5, columns=row._fields)\n",
    "District_6 = pd.DataFrame(District_6, columns=row._fields)\n",
    "District_7 = pd.DataFrame(District_7, columns=row._fields)\n",
    "Other_neighborhoods = pd.DataFrame(Other_neighborhoods, columns=row._fields)\n",
    "\n",
    "print(type(District_1))\n",
    "print(District_1.shape)\n",
    "District_1.head()\n",
    "\n",
    "print(type(District_2))\n",
    "print(District_2.shape)\n",
    "District_2.head()\n",
    "\n",
    "print(type(District_3))\n",
    "print(District_3.shape)\n",
    "District_3.head()\n",
    "\n",
    "print(type(District_4))\n",
    "print(District_4.shape)\n",
    "District_4.head()\n",
    "\n",
    "print(type(District_5))\n",
    "print(District_5.shape)\n",
    "District_5.head()\n",
    "\n",
    "print(type(District_6))\n",
    "print(District_6.shape)\n",
    "District_6.head()\n",
    "\n",
    "print(type(District_7))\n",
    "print(District_7.shape)\n",
    "District_7.head()\n",
    "\n",
    "print(type(Other_neighborhoods))\n",
    "print(Other_neighborhoods.shape)\n",
    "Other_neighborhoods.head()\n",
    "#produce new csv files.\n",
    "District_1.to_csv('..\\dataset_filter\\District_1.csv',index=False)\n",
    "District_2.to_csv('..\\dataset_filter\\District_2.csv',index=False)\n",
    "District_3.to_csv('..\\dataset_filter\\District_3.csv',index=False)\n",
    "District_4.to_csv('..\\dataset_filter\\District_4.csv',index=False)\n",
    "District_5.to_csv('..\\dataset_filter\\District_5.csv',index=False)\n",
    "District_6.to_csv('..\\dataset_filter\\District_6.csv',index=False)\n",
    "District_7.to_csv('..\\dataset_filter\\District_7.csv',index=False)\n",
    "Other_neighborhoods.to_csv('..\\dataset_filter\\Other_neighborhoods.csv',index=False)\n",
    "        "
   ]
  },
  {
   "cell_type": "code",
   "execution_count": null,
   "metadata": {},
   "outputs": [],
   "source": []
  },
  {
   "cell_type": "code",
   "execution_count": null,
   "metadata": {},
   "outputs": [],
   "source": []
  },
  {
   "cell_type": "code",
   "execution_count": null,
   "metadata": {},
   "outputs": [],
   "source": []
  }
 ],
 "metadata": {
  "kernelspec": {
   "display_name": "Python 3",
   "language": "python",
   "name": "python3"
  },
  "language_info": {
   "codemirror_mode": {
    "name": "ipython",
    "version": 3
   },
   "file_extension": ".py",
   "mimetype": "text/x-python",
   "name": "python",
   "nbconvert_exporter": "python",
   "pygments_lexer": "ipython3",
   "version": "3.7.4"
  }
 },
 "nbformat": 4,
 "nbformat_minor": 2
}
